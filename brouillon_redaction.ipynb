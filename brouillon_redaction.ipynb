{
 "cells": [
  {
   "cell_type": "markdown",
   "metadata": {},
   "source": [
    "## Définition des variables : \n",
    "\n",
    "### Variables sur le niveau de vie \n",
    "\n",
    "* physicist : accessibilité potentielle localisée (APL). DREES: \"L’indicateur d’accessibilité potentielle localisée (APL) a été développé pour mesurer l’adéquation spatiale entre l’offre et la demande de soins de premier recours à un échelon géographique fin. C'est un indicateur local, disponible au niveau de chaque commune, qui tient compte de l’offre et de la demande issues des communes environnantes. Calculé à l’échelle communale, l’APL met en évidence des disparités d’offre de soins qu’un indicateur usuel de densité, calculé sur des mailles beaucoup plus larges aurait tendance à masquer. Il tient également compte du niveau d’activité des professionnels en exercice ainsi que de la structure par âge de la population de chaque commune qui influence les besoins de soins.\"\\\n",
    "* Q214 :  Revenu disponible médian par unité de consommation en 2014.\\\n",
    "* Q219 :  Revenu disponible médian par unité de consommation en 2019.\\\n",
    "* GI19 : indice de Gini en 2019.\\ \n",
    "\n",
    "\n",
    "### Variables démographiques \n",
    "\n",
    "* popdensity2014 : densité de population en 2014 (nombre d'habitants/surface).\\\n",
    "* popdensity2019 : densité de population en 2019 (nombre d'habitants/surface).\\\n",
    "\n",
    "\n",
    "### Variables sur la criminalité \n",
    "\n",
    "* burglary_for_1000 : nombre de cambriolages pour 1000 habitants en 2019.\\\n",
    "* assault_for_1000 : nombre de coups et blessures volontaires pour 1000 habitants en 2019.\\\n",
    "* other_assault_for_1000 : nombre d'autres coups et blessures volontaires pour 1000 habitants en 2019.\\\n",
    "* destruction_for_1000 : nombre de destructions et dégradations volontaires pour 1000 habitants en 2019.\\"
   ]
  }
 ],
 "metadata": {
  "language_info": {
   "name": "python"
  }
 },
 "nbformat": 4,
 "nbformat_minor": 2
}
