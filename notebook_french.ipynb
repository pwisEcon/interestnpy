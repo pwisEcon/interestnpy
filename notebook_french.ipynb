{
 "cells": [
  {
   "cell_type": "markdown",
   "id": "5cb146a4",
   "metadata": {},
   "source": [
    "# Analyse dynamique des déterminants des prix immobiliers et de l'impact des taux d'intérêt sur le marché du logement"
   ]
  },
  {
   "cell_type": "markdown",
   "id": "8a8c3579",
   "metadata": {},
   "source": [
    "Ce projet python vise à étudier l'influence des taux d'intérêts sur les prix immobilier au niveau local en fonction de divers charactéristiques. L'objectif principal est de déterminer si l'impact des taux d'interet peut-être observé de façon homogène sur le territoire français. La question de l'effet des taux sur le marché immobilier est traité de façons assez large dans la littérature, souvent à des niveaux assez agrégé comme un pays (voir un working paper de la BCE _House prices and ultra-low interest rates: exploring the non-linear nexus_, Dieckelmann et al). Ce projet a donc la particularité de travailler à un niveau bien plus micro, l'échelon local. \n",
    "\n",
    "Notre analyse est limité à la période de disponibilité des données \"Demandes de Valeurs Foncières\" (2014-2023) qui listent toutes les transactions immobilières réalisées sur le territoire français, et nous permettent de construire des bases locales des marchés immobiliers. \n",
    "\n",
    "Ce notebook peut se décomposer en 3 grandes parties :\n",
    "__________________________________________________\n",
    "Partie I - Préparation de la DVF\n",
    " 1. Récupération des données \n",
    " 2. Agrégation en utilisant des tables de passage\n",
    "___________________________________________________\n",
    " 3. Visualisation et étude des données de la DVF\n",
    "___________________________________________________\n",
    "\n",
    "Partie II - Variables de controle\n",
    " 1. Récupération des données\n",
    " 2. Création d'une table variable de contrôle \n",
    " 3. Visualisation des données de controle\n",
    "___________________________________________________\n",
    "Partie III - Analyse, modélisation et économétrie\n",
    " 1. Test de Granger\n",
    " 2. Corrélations \n",
    " 3. Modèles communaux\n",
    " 4. Modèle avec prix dé-tendanciés\n",
    " 5. Modèle ZE\n",
    " 6. Modèle EPCI\n",
    "____________________________________________________\n",
    "Pour faciliter le contrôle de version, notre travail a été initialement réalisé sur 4 scripts indépendants ce qui représente un avantage innatendu puisque le code présent dans ce notebook peut être utilisé de façon indépendante entre 4 sections indiquées plus haut par des lignes horizontales, seule les importations des dependencies et la selection du path doivent toujours être éxécuté. "
   ]
  },
  {
   "cell_type": "markdown",
   "id": "f4d0e7c2",
   "metadata": {},
   "source": [
    "## Les importations "
   ]
  },
  {
   "cell_type": "code",
   "execution_count": null,
   "id": "e870d484",
   "metadata": {},
   "outputs": [],
   "source": [
    "import pandas as pd\n",
    "import numpy as np\n",
    "import pyarrow.feather as feather\n",
    "import geopandas as gpd\n",
    "import matplotlib.pyplot as plt\n",
    "import seaborn as sns\n",
    "import warnings\n",
    "import statsmodels.api as sm\n",
    "import statsmodels.formula.api as smf\n",
    "from sklearn.linear_model import LinearRegression\n",
    "from statsmodels.tsa.stattools import grangercausalitytests\n",
    "from linearmodels import PanelOLS, RandomEffects\n",
    "from statsmodels.stats.diagnostic import het_breuschpagan\n",
    "from linearmodels.panel import compare\n",
    "from statsmodels.tsa.stattools import adfuller\n",
    "warnings.filterwarnings('ignore')"
   ]
  },
  {
   "cell_type": "code",
   "execution_count": null,
   "id": "e4c1ed21",
   "metadata": {},
   "outputs": [],
   "source": [
    "# Change path as needed\n",
    "path = \"C:/Users/patry/Documents/GitHub/interestnpy\""
   ]
  },
  {
   "cell_type": "markdown",
   "id": "0d20bea5",
   "metadata": {},
   "source": [
    "## Partie I - Préparation de la DVF"
   ]
  },
  {
   "cell_type": "markdown",
   "id": "5a623ead",
   "metadata": {},
   "source": [
    "### I.1. Récupération de données "
   ]
  },
  {
   "cell_type": "markdown",
   "id": "1cdbf6a6-0e36-45cd-861e-547525b3cd22",
   "metadata": {},
   "source": [
    "#### Création d'une table de passage"
   ]
  },
  {
   "cell_type": "markdown",
   "id": "129ab1e8",
   "metadata": {},
   "source": [
    "La géographie des différents agrégats locaux en France a changé entre 2014 et 2023, ce qui nécessite donc de construire une table de passage. Pour cela nous utilisons une table constante des code communes de l'INSEE que nous adaptons à trois niveaux de travail, commune, zone d'emploi et intercomunalité."
   ]
  },
  {
   "cell_type": "code",
   "execution_count": null,
   "id": "3faaaf38",
   "metadata": {},
   "outputs": [],
   "source": [
    "#IMPORTS AND FILTER INSEE TRANSLATION TABLE\n",
    "passage1423_df = pd.read_excel(path+\"/data/external/GEOCOM/table_passage_annuelle_2023.xlsx\", \n",
    "                               sheet_name=\"COM\", skiprows=5)\n",
    "passage1423_df = passage1423_df.filter(regex='^CODGEO').iloc[:, :10]\n",
    "passage1423_df = passage1423_df[passage1423_df['CODGEO_2023'].notna()]"
   ]
  },
  {
   "cell_type": "code",
   "execution_count": null,
   "id": "d5567491",
   "metadata": {},
   "outputs": [],
   "source": [
    "#IMPORTS 2023 EPCI DEFINITIONS\n",
    "fcom_df = pd.read_excel(path+\"/data/external/GEOCOM/ZE2020_au_01-01-2023.xlsx\", \n",
    "                            sheet_name=\"Composition_communale\", skiprows=5)\n",
    "\n",
    "epc_com = pd.read_excel(path+\"/data/external/GEOCOM/Intercommunalite_Metropole_au_01-01-2023.xlsx\", \n",
    "                            sheet_name=\"Composition_communale\", skiprows=5)\n",
    "\n",
    "fcom_df = pd.merge(fcom_df, epc_com, how='left', on=['CODGEO','LIBGEO', 'DEP', 'REG'])"
   ]
  },
  {
   "cell_type": "markdown",
   "id": "ccc36c95-02b4-45de-8ca9-c572cec1ec9b",
   "metadata": {},
   "source": [
    "Le niveau intercommunalité des 3 plus grandes zones métropolitaines maintient les métropoles indépendantes."
   ]
  },
  {
   "cell_type": "code",
   "execution_count": null,
   "id": "3dc52026",
   "metadata": {},
   "outputs": [],
   "source": [
    "#CREATES COM BASED ON 2023 TOWN CODES AND ZE BASED ON EPCI\n",
    "fcom_df['COM'] = fcom_df['CODGEO']\n",
    "fcom_df['LIB_COM'] = fcom_df['LIBGEO']\n",
    "fcom_df['ZE'] = fcom_df['ZE2020']\n",
    "fcom_df['LIB_ZE'] = fcom_df['LIBZE2020']\n",
    "fcom_df['EPCI'] = fcom_df['ZE2020']\n",
    "fcom_df['LIB_ZE'] = fcom_df['LIBZE2020']\n",
    "fcom_df['EPCI'] = fcom_df.apply(\n",
    "    lambda row: row['CODGEO'] if any(x in row['LIBEPCI'] for x in [\"Métropole du Grand Paris\", \"Métropole de Lyon\", \"Métropole d'Aix-Marseille-Provence\"]) else row['EPCI'],\n",
    "    axis=1\n",
    ")\n",
    "fcom_df['LIB_EPCI'] = fcom_df.apply(\n",
    "    lambda row: row['LIBGEO'] if any(x in row['LIBEPCI'] for x in [\"Métropole du Grand Paris\", \"Métropole de Lyon\", \"Métropole d'Aix-Marseille-Provence\"]) else row['LIBEPCI'],\n",
    "    axis=1\n",
    ")\n",
    "fcom_df['LIB_EPCI'] = fcom_df.apply(\n",
    "    lambda row: \"Iles-FR\" if row['EPCI'] == \"ZZZZZZZZZ\" else row['LIB_EPCI'],\n",
    "    axis=1\n",
    ")\n",
    "fcom_df.rename(columns={'CODGEO': 'CODGEO_2023'}, inplace=True)\n",
    "fcom_df = fcom_df[['CODGEO_2023', 'COM', 'LIB_COM', 'ZE', 'LIB_ZE', 'EPCI', 'LIB_EPCI']]"
   ]
  },
  {
   "cell_type": "code",
   "execution_count": null,
   "id": "0928a874",
   "metadata": {},
   "outputs": [],
   "source": [
    "#MERGES WITH INSEE TABLE TO CREATE THE TRANSLATION TABLE \n",
    "ident1423_df = pd.merge(passage1423_df, fcom_df, how='left', on='CODGEO_2023')"
   ]
  },
  {
   "cell_type": "code",
   "execution_count": null,
   "id": "2e852317",
   "metadata": {},
   "outputs": [],
   "source": [
    "#FIXES PROBLEMS RELATED TO CITIES WITH \"ARRONDISSEMENTS\"\n",
    "conditions_arr = [\n",
    "    ident1423_df['CODGEO_2023'].str.startswith(\"75\"),\n",
    "    ident1423_df['CODGEO_2023'].str.startswith(\"132\"),\n",
    "    ident1423_df['CODGEO_2023'].str.startswith(\"6938\")\n",
    "]\n",
    "\n",
    "ze_arr = [1109, 9312, 8421]\n",
    "lib_arr = [\"Paris\", \"Marseille\", \"Lyon\"]\n",
    "\n",
    "ident1423_df['COM'] = ident1423_df.apply(\n",
    "    lambda row: row['CODGEO_2023'] if pd.isna(row['COM']) else row['COM'],\n",
    "    axis=1\n",
    ")\n",
    "\n",
    "ident1423_df['EPCI'] = ident1423_df.apply(\n",
    "    lambda row: row['CODGEO_2023'] if pd.isna(row['EPCI']) else row['EPCI'],\n",
    "    axis=1\n",
    ")\n",
    "ident1423_df['EPCI'] = ident1423_df['EPCI'].astype(str)\n",
    "\n",
    "ident1423_df['ZE'] = np.select(\n",
    "  conditions_arr, \n",
    "  ze_arr, \n",
    "  default=ident1423_df['ZE'])"
   ]
  },
  {
   "cell_type": "code",
   "execution_count": null,
   "id": "afd757f0",
   "metadata": {},
   "outputs": [],
   "source": [
    "def create_lib_ident(row, col_name):\n",
    "    if pd.isna(row[col_name]):\n",
    "        if row['COM'][:2] == \"75\":\n",
    "            return f\"Paris {row['COM'][3:5]}\"\n",
    "        elif row['COM'][:2] == \"69\":\n",
    "            return f\"Lyon {int(row['CODGEO_2019']) - 80}\"\n",
    "        elif row['COM'][:2] == \"13\":\n",
    "            return f\"Marseille {row['COM'][3:5]}\"\n",
    "    else:\n",
    "        return row[col_name]"
   ]
  },
  {
   "cell_type": "code",
   "execution_count": null,
   "id": "f388bc75",
   "metadata": {},
   "outputs": [],
   "source": [
    "ident1423_df['LIB_COM'] = ident1423_df.apply(create_lib_ident, col_name='LIB_COM', axis=1)\n",
    "\n",
    "ident1423_df['LIB_EPCI'] = ident1423_df.apply(\n",
    "    lambda row: row['LIB_COM'] if pd.isna(row['LIB_EPCI']) else row['LIB_EPCI'],\n",
    "    axis=1\n",
    ") \n",
    "\n",
    "ident1423_df['LIB_ZE'] = np.select(\n",
    "  conditions_arr, \n",
    "  lib_arr, \n",
    "  default=ident1423_df['LIB_ZE'])"
   ]
  },
  {
   "cell_type": "code",
   "execution_count": null,
   "id": "ac4eebd6",
   "metadata": {},
   "outputs": [],
   "source": [
    "#REORDERS AND EXPORTS THE TRANSLATION TABLE\n",
    "reord_cols = ['COM', 'ZE', 'LIB_COM', 'LIB_ZE', 'EPCI', 'LIB_EPCI']\n",
    "ident1423_df = ident1423_df[reord_cols + [col for col in ident1423_df.columns if col not in reord_cols]]\n",
    "ident1423_df.to_feather(path+\"/data/interim/tble_de_passage_py.feather\")"
   ]
  },
  {
   "cell_type": "code",
   "execution_count": null,
   "id": "26c8490c",
   "metadata": {},
   "outputs": [],
   "source": [
    "ident1423_df.head()"
   ]
  },
  {
   "cell_type": "markdown",
   "id": "8a4d1f7b",
   "metadata": {},
   "source": [
    "#### Prix des terrains par département"
   ]
  },
  {
   "cell_type": "markdown",
   "id": "ad64bb2c",
   "metadata": {},
   "source": [
    "Les données du Ministère de la Transition écologique sur les prix des terrains par région de 2008 à 2022 permettent à l'étape d'agrégation de soustraire les prix des terrains des montants des transactions dans les données DVF."
   ]
  },
  {
   "cell_type": "code",
   "execution_count": null,
   "id": "467a608a",
   "metadata": {},
   "outputs": [],
   "source": [
    "#LOADS CONVERSION TABLE REG - DEP\n",
    "depreg_df = pd.read_excel(path+\"/data/external/GEOCOM/table-appartenance-geo-communes-19.xls\", \n",
    "                          sheet_name=\"COM\", skiprows=5)[['DEP', 'REG']].drop_duplicates()\n",
    "depreg_df['REG'] = depreg_df['REG'].astype(str)\n",
    "\n",
    "#LOADS REGIONAL PRICES FOR LAND\n",
    "ter_df = pd.read_csv(path+\"/data/external/TER/1-Terrains-achetes-nombre-surface-et-prix-moyen-par-region.2022-01.csv\", \n",
    "                     delimiter=\";\", skiprows=1, escapechar='\\\\', skipinitialspace=True)"
   ]
  },
  {
   "cell_type": "code",
   "execution_count": null,
   "id": "9155f637",
   "metadata": {},
   "outputs": [],
   "source": [
    "#CREATING ADDITIONAL CONSTANT VALUES FOR 2023\n",
    "additional_rows_2023 = ter_df[ter_df['ANNEE'] == 2022].copy()\n",
    "additional_rows_2023['ANNEE'] = 2023\n",
    "ter_df = pd.concat([ter_df, additional_rows_2023]).sort_values('ANNEE')\n",
    "ter_df = ter_df[ter_df['ANNEE'] > 2013]"
   ]
  },
  {
   "cell_type": "code",
   "execution_count": null,
   "id": "ab248b19",
   "metadata": {},
   "outputs": [],
   "source": [
    "#MERGES TO GO FROM REGIONAL LEVEL TO DEPARTMENT LEVEL AND EXPORTS\n",
    "terdep_df = pd.merge(depreg_df, ter_df, left_on='REG', right_on='ZONE_CODE', how='left')\n",
    "terdep_df = terdep_df.dropna().reset_index(drop=True)[['ANNEE', 'DEP', 'PTM2_MED']]\n",
    "terdep_df.to_feather(path+\"/data/interim/terrains_py.feather\")"
   ]
  },
  {
   "cell_type": "code",
   "execution_count": null,
   "id": "9333775b",
   "metadata": {},
   "outputs": [],
   "source": [
    "terdep_df.head()"
   ]
  },
  {
   "cell_type": "markdown",
   "id": "ba79fb23",
   "metadata": {},
   "source": [
    "#### Inflation - Taux d'intérêt"
   ]
  },
  {
   "cell_type": "markdown",
   "id": "abc9e20a-fee8-4fee-9a4f-9bf40365134d",
   "metadata": {},
   "source": [
    "Dans le cadre d'une analyse économique, il est préférable de travailler en euros réels, c'est-à-dire corrigé de l'inflation. Nous construisons donc une table de l'inflation cumulée depuis 2014 jusqu'à la fin du premier semestre 2023 à partir de données de l'INSEE. De l'inflation cumulée par année est extrapolée des données trimestrielles. "
   ]
  },
  {
   "cell_type": "code",
   "execution_count": null,
   "id": "b55ebc04",
   "metadata": {},
   "outputs": [],
   "source": [
    "#INFLATION TABLE\n",
    "inflation = pd.read_excel(path+\"/data/external/INFLATION/econ-gen-taux-inflation.xlsx\", \n",
    "                          sheet_name=\"Données\", skiprows=3, nrows=9)\n",
    "inflation.rename(columns={\"Année\": \"AN\", \"Taux d'inflation\": \"INFLATION\"}, inplace=True)\n",
    "inflation['AN'] = inflation['AN'].astype(str)\n",
    "inflation = inflation._append({'AN': str(2023), 'INFLATION': 2.3}, ignore_index=True)\n",
    "#Why 2.3? first 3 months inflation\n",
    "#either way it does not matter as we will work in basis 2023\n",
    "inflation.sort_values(by=\"AN\", inplace=True)\n",
    "inflation['Date'] = inflation['AN']+\"0101\"\n",
    "inflation.loc[len(inflation)] = [\"2023\",0, \"20230401\"]\n",
    "inflation['TOT'] = (1 + inflation['INFLATION'].shift(1) / 100).cumprod()\n",
    "inflation['TOT'] = inflation['TOT'].fillna(1)"
   ]
  },
  {
   "cell_type": "markdown",
   "id": "bf9df740-05eb-4b5a-bf1f-6bc1af0f55f1",
   "metadata": {},
   "source": [
    "Les taux d'intérêts utilisés dans le cadre de ce projet ne sont pas les taux directeurs de la BCE comme cela peut-être observé dans la littérature, mais les taux de crédit immobiliers moyen observé par la Banque de France. Le projet ne cherche donc pas à étudier le délai de transmission de la politique monétaire de la BCE vers le marché immobilier français, mais directement de la transmission du taux d'intérêt effectivement pratiqué."
   ]
  },
  {
   "cell_type": "code",
   "execution_count": null,
   "id": "5e7708dc",
   "metadata": {},
   "outputs": [],
   "source": [
    "# INTEREST RATES TABLE\n",
    "interest_rates = pd.read_excel(path+\"/data/external/INFLATION/series_panorama_202309.xlsx\", \n",
    "                               sheet_name=\"G3\", \n",
    "                               skiprows=6, \n",
    "                               names=[\"Date\", \"ir\", \"ir10_avg\", \"ir20_avg\"])\n",
    "\n",
    "interest_rates = interest_rates[interest_rates['Date'] > '2013-12-31']\n",
    "\n",
    "interest_rates['quarter'] = interest_rates['Date'].dt.to_period('Q').astype(str)\n",
    "interest_rates = interest_rates.groupby('quarter').agg({'ir': 'mean'}).reset_index()"
   ]
  },
  {
   "cell_type": "code",
   "execution_count": null,
   "id": "f30a34f9",
   "metadata": {},
   "outputs": [],
   "source": [
    "def get_month_from_quarter(quarter):\n",
    "    quarter_num = quarter.split(\"Q\")[1]\n",
    "    return {'1': '01', '2': '04', '3': '07', '4': '10'}.get(quarter_num, None)"
   ]
  },
  {
   "cell_type": "code",
   "execution_count": null,
   "id": "34e54324",
   "metadata": {},
   "outputs": [],
   "source": [
    "interest_rates['themonth'] = interest_rates['quarter'].apply(get_month_from_quarter)\n",
    "interest_rates['Date'] = (interest_rates['quarter'].str[:4] + interest_rates['themonth'] + \"01\")\n",
    "interest_rates = interest_rates[['Date', 'ir']]"
   ]
  },
  {
   "cell_type": "code",
   "execution_count": null,
   "id": "91a7c90c",
   "metadata": {},
   "outputs": [],
   "source": [
    "# Combine inflation and interest rates\n",
    "irflation = pd.merge(interest_rates, inflation, on='Date', how='left')\n",
    "irflation = irflation.interpolate(method=\"slinear\", fill_value=\"extrapolate\", limit_direction=\"both\")\n",
    "irflation['BASE14'] = irflation['TOT'] / irflation['TOT'].iloc[0]\n",
    "irflation['BASE23'] = irflation['BASE14'] / irflation['BASE14'].iloc[37]\n",
    "irflation.to_feather(path+\"/data/interim/irflation.feather\")"
   ]
  },
  {
   "cell_type": "code",
   "execution_count": null,
   "id": "92da513b",
   "metadata": {},
   "outputs": [],
   "source": [
    "irflation.head()"
   ]
  },
  {
   "cell_type": "markdown",
   "id": "b6f087b1",
   "metadata": {},
   "source": [
    "### I-2. Agrégation des données de la DVF"
   ]
  },
  {
   "cell_type": "markdown",
   "id": "dedb66fd",
   "metadata": {},
   "source": [
    "Dans cette partie, on agrège les données DVF trimestriellement en utilisant une fonction personnalisée à 3 niveaux distincts : commune, EPCI et zone d'emploi. Les données ont été filtrées, seul les données métropolitaines sont conservées et les transactions concernant un local commercial ou une parcelle ont été supprimées. Pour chaque niveau d'agrégation, 3 variables d'intérêt ont été gardées : le nombre de transactions, le prix médian et la part des maisons dans le total des transactions. Cette proportion est utilisée comme variable de contrôle pour les différences structurelles du marché de l'immobilier des différentes communes, car les maisons sont souvent moins chères au mètre carré que les appartements."
   ]
  },
  {
   "cell_type": "code",
   "execution_count": null,
   "id": "3e12c87d",
   "metadata": {},
   "outputs": [],
   "source": [
    "terdep_df = pd.read_feather(path+\"/data/interim/terrains_py.feather\")\n",
    "ident_df = pd.read_feather(path+\"/data/interim/tble_de_passage_py.feather\").drop_duplicates()"
   ]
  },
  {
   "cell_type": "code",
   "execution_count": null,
   "id": "80a3afbf",
   "metadata": {},
   "outputs": [],
   "source": [
    "def aggreg_fun(data, ID, LIB_ID):\n",
    "    quantiles = data.groupby([ID, LIB_ID, 'Date', 'Type local'])['prixM2'].quantile([0.05, 0.95]).unstack()\n",
    "    quantiles.columns = ['quantile_05', 'quantile_95']\n",
    "    data = data.merge(quantiles, left_on=[ID, LIB_ID, 'Date', 'Type local'], right_index=True)\n",
    "    filtered_data = data[(data['prixM2'] <= data['quantile_95']) & (data['prixM2'] >= data['quantile_05'])]\n",
    "    print(\"Data filtered!\")\n",
    "    data_agreg = filtered_data.groupby([ID, LIB_ID,'Date']).agg(\n",
    "     n_transactions=('prixM2', 'size'),\n",
    "     prop_maison=('Type local', lambda x: np.mean(x == 'Maison')),\n",
    "    prixM2=('prixM2', 'median')\n",
    "    ).reset_index()\n",
    "    return data_agreg"
   ]
  },
  {
   "cell_type": "markdown",
   "id": "f87b62c1-0fa0-4567-85d9-8b7a39972b01",
   "metadata": {},
   "source": [
    "Remarque : Pour réduire au maximum le poids des valeurs extrêmes ont été supprimés les 5% des prix au m2 les plus faibles et les 5% les plus élevés (par exemple, les appartements dans Paris 6e vendu à 1500€/m2 n'ont pas été pris en compte). "
   ]
  },
  {
   "cell_type": "code",
   "execution_count": null,
   "id": "638b13db",
   "metadata": {},
   "outputs": [],
   "source": [
    "def immo_prices(year):\n",
    "    # Read data\n",
    "    df = pd.read_csv(path+f\"/data/external/DFV/valeursfoncieres-{year}.txt\", delimiter=\"|\", dtype=str)\n",
    "    df = df.dropna(axis=1, how='all')  \n",
    "    # Filter and mutate\n",
    "    df = df[df['Nature mutation'] == \"Vente\"]\n",
    "    df = df[df['Code type local'].isin(['1', '2'])]\n",
    "    df = df[~df['Code departement'].isin(['971', '972', '973', '974'])]\n",
    "    df['Code commune'] = df['Code commune'].str.pad(width=3, side='left', fillchar='0')\n",
    "    df['depcom'] = df['Code departement'] + df['Code commune']\n",
    "    df['Valeur fonciere'] = df['Valeur fonciere'].str.replace(\",\", \".\").astype(float)\n",
    "    print(\"Imported!\")\n",
    "    # Quarter and date manipulation\n",
    "    df['quarter_num'] = df['Date mutation'].str[3:5].astype(int)\n",
    "    df['qmonth'] = np.select([df['quarter_num'].isin(range(1, 4)), df['quarter_num'].isin(range(4, 7)), df['quarter_num'].isin(range(7, 10)), df['quarter_num'].isin(range(10, 13))], [\"01\", \"04\", \"07\", \"10\"], default=np.nan)\n",
    "    df['Date'] = (str(year) + df['qmonth'] + \"01\")\n",
    "    print(\"Date computed!\")\n",
    "    # Merging with ident_year_df\n",
    "    ident_year_df = ident_df[['COM', 'EPCI', 'ZE', 'LIB_COM', 'LIB_EPCI', 'LIB_ZE', f'CODGEO_{year}']].drop_duplicates()\n",
    "    df = df.merge(ident_year_df, left_on='depcom', right_on=f'CODGEO_{year}', how='left')\n",
    "    # Merging with terdep_df\n",
    "    df = df.merge(terdep_df[terdep_df['ANNEE'] == int(year)], left_on='Code departement', right_on='DEP', how='left')\n",
    "    # Calculating prixM2\n",
    "    df['Surface terrain'] = df['Surface terrain'].replace(np.nan, 0).astype(float)\n",
    "    df['prixM2'] = (df['Valeur fonciere'] - df['Surface terrain'] * df['PTM2_MED']) / df['Surface reelle bati'].astype(float)\n",
    "    df = df[(df['prixM2'] > 10) & (df['prixM2'] < 100000)].drop_duplicates()\n",
    "    print(\"Price computed!\")\n",
    "    df = df.drop_duplicates(subset=['Date mutation', 'No voie', 'Valeur fonciere', 'Surface terrain', 'LIB_COM'])\n",
    "    df4_epci = aggreg_fun(df,\"EPCI\",\"LIB_EPCI\")\n",
    "    print(\"EPCI done!\")\n",
    "    df4_com = aggreg_fun(df,\"COM\", \"LIB_COM\")\n",
    "    print(\"Town done!\")\n",
    "    df4_ze = aggreg_fun(df,\"ZE\",\"LIB_ZE\")\n",
    "    print(\"ZE done!\")\n",
    "    df4_full = df.groupby('Date', as_index=False).agg(prixM2=('prixM2', 'mean'))\n",
    "\n",
    "\n",
    "    return [df4_com, df4_epci, df4_ze, df4_full]"
   ]
  },
  {
   "cell_type": "markdown",
   "id": "73f2aef0-78f7-4f1b-907f-1f6da1b45959",
   "metadata": {},
   "source": [
    "**Attention! L'agrégation ci-dessous prends entre 3 et 10 min selon le processeur**"
   ]
  },
  {
   "cell_type": "code",
   "execution_count": null,
   "id": "5df9dda1",
   "metadata": {},
   "outputs": [],
   "source": [
    "years = [\"2023\", \"2022\", \"2021\", \"2020\", \"2019\", \"2018\", \"2017\", \"2016\", \"2015\", \"2014\"]\n",
    "results = []\n",
    "\n",
    "for i in years:\n",
    "  print(\"Computing \"+i)  \n",
    "  results.append(immo_prices(i))"
   ]
  },
  {
   "cell_type": "code",
   "execution_count": null,
   "id": "5257445e",
   "metadata": {},
   "outputs": [],
   "source": [
    "# Merging results\n",
    "immo1423_com = pd.concat([result[0] for result in results])\n",
    "immo1423_epci = pd.concat([result[1] for result in results])\n",
    "immo1423_ze = pd.concat([result[2] for result in results])\n",
    "immo1423_full = pd.concat([result[3] for result in results])"
   ]
  },
  {
   "cell_type": "code",
   "execution_count": null,
   "id": "9007d789",
   "metadata": {},
   "outputs": [],
   "source": [
    "# Writing output\n",
    "feather.write_feather(immo1423_com, path+\"/data/interim/immo_panel_com_py.feather\")\n",
    "feather.write_feather(immo1423_epci, path+\"/data/interim/immo_panel_epci_py.feather\")\n",
    "feather.write_feather(immo1423_ze, path+\"/data/interim/immo_panel_ze_py.feather\")\n",
    "feather.write_feather(immo1423_full, path+\"/data/interim/immo_panel_full_py.feather\")"
   ]
  },
  {
   "cell_type": "markdown",
   "id": "482e770c",
   "metadata": {},
   "source": [
    "### I-3. Visualisation de données "
   ]
  },
  {
   "cell_type": "markdown",
   "id": "7659151b-adce-4f22-9dd1-0a3f0356632b",
   "metadata": {},
   "source": [
    "En utilisant des libraries comme geopandas et des shapefiles de l'INSEE nous pouvons visualiser certaines de nos données géographiques issues de la DVF. Seul le niveau zone d'emploi est considéré les autres niveaux étant trop petits pour être bien lisible sur une carte."
   ]
  },
  {
   "cell_type": "code",
   "execution_count": null,
   "id": "2aa83e25",
   "metadata": {},
   "outputs": [],
   "source": [
    "# Reading the data\n",
    "ze_shp = gpd.read_file(path+\"/data/external/ze2020_2023/ze2020_2023.shp\")\n",
    "immo_panel = pd.read_feather(path+\"/data/interim/immo_panel_ze_py.feather\")\n",
    "immo_panel_com = pd.read_feather(path+\"/data/interim/immo_panel_com_py.feather\")\n",
    "immo_panel_full = pd.read_feather(path+\"/data/interim/immo_panel_full_py.feather\")\n",
    "irflation = pd.read_feather(path+\"/data/interim/irflation.feather\")\n",
    "interest_rates = pd.read_feather(path+\"/data/interim/interest_rates.feather\")"
   ]
  },
  {
   "cell_type": "code",
   "execution_count": null,
   "id": "d7daf511",
   "metadata": {},
   "outputs": [],
   "source": [
    "# Data manipulation\n",
    "immo_panel = immo_panel[(immo_panel['Date'] == '20230101') | \n",
    "                           (immo_panel['Date'] == '20190101') | \n",
    "                           (immo_panel['Date'].isna())]\n",
    "immo_panel.sort_values(by=['ZE', 'Date'], inplace=True)\n",
    "immo_panel['dprix'] = immo_panel.groupby('ZE')['prixM2'].transform(lambda x: x - x.shift())\n",
    "\n",
    "ze_shp['ZE'] = ze_shp['ze2020'].astype(float)\n",
    "full_map = ze_shp.merge(immo_panel, on=\"ZE\", how=\"left\")"
   ]
  },
  {
   "cell_type": "code",
   "execution_count": null,
   "id": "7562ce58",
   "metadata": {},
   "outputs": [],
   "source": [
    "# Plotting\n",
    "def plot_map(data, variable, title, palette):\n",
    "    fig, ax = plt.subplots(figsize=(10, 6))\n",
    "    data.plot(column=variable, ax=ax, legend=True, cmap=palette,\n",
    "    missing_kwds={'color': 'lightgrey', 'hatch': '///'})\n",
    "    plt.title(title)\n",
    "    plt.xlim(-4.5, 9.5)\n",
    "    plt.ylim(41.5, 51)\n",
    "    ax.set_axis_off()\n",
    "    plt.show()"
   ]
  },
  {
   "cell_type": "code",
   "execution_count": null,
   "id": "21d1cb32",
   "metadata": {},
   "outputs": [],
   "source": [
    "plot_map(full_map[(full_map['Date'] == '20190101')|(full_map['Date'].isna())], \n",
    "         'prixM2', \"Prix immobilier par zone d'emploi, premier trimestre 2019\", \n",
    "         \"YlGnBu\")"
   ]
  },
  {
   "cell_type": "markdown",
   "id": "8aecd4b2",
   "metadata": {},
   "source": [
    "On observe une très forte hétérogénéité des prix de l'immobillier en France. Les prix sont très élevées dans la zone d'emploi de Paris et plus largement dans l'Ouest de l'Ile-de-France, ainsi que dans la Côte d'Azur. On remarque également des prix élevés dans les zones d'emploi proches de la frontière Suisse. Cela est probablement dû à la présence de travailleurs frontaliers. Au contraire, les prix immobilier sont faibles dans les zones rurales, en particulier dans le centre de la France.\n",
    "\n",
    "Remarque: La DVF ne comprends pas de données pour une partie de l'Alsace et la Lorraine.\n"
   ]
  },
  {
   "cell_type": "code",
   "execution_count": null,
   "id": "c1493b81",
   "metadata": {},
   "outputs": [],
   "source": [
    "plot_map(full_map[(full_map['Date'] == '20230101')|(full_map['Date'].isna())], \n",
    "         'dprix', \"Prix immobilier par zone d'emploi, différence 2023T1-2019T1\", \n",
    "         \"RdYlGn_r\")"
   ]
  },
  {
   "cell_type": "markdown",
   "id": "fdbf9e79",
   "metadata": {},
   "source": [
    "Les prix réels de l'immobilier sont stables dans l'essentiel de la France. Cependant, certains territoires ont vu de fortes augmentations. Toutes les zones d'emplois situées sur la côte atlantique ont subi des augmentations importantes tout comme celles sur la côte de la méditerannées de la région PACA. On remarque aussi une forte augmentation dans les zones d'emplois proches de la frontière Suisse. L'augmentation des prix dans la zone d'emploi de Paris entre 2019 et 2023 a été d'environ 1000€m2. Une des plus forte hausse a été dans la zone de Sainte Maxime, avec plus de 1500€m2. "
   ]
  },
  {
   "cell_type": "code",
   "execution_count": null,
   "id": "c149e804",
   "metadata": {},
   "outputs": [],
   "source": [
    "# Plotting time series\n",
    "def plot_time_series(data, x, y, title, hue=None):\n",
    "    sns.set_theme(style=\"whitegrid\")\n",
    "    plt.figure(figsize=(10, 6))\n",
    "    sns.lineplot(data=data, x=x, y=y, hue=hue)\n",
    "    plt.title(title)\n",
    "    plt.show()"
   ]
  },
  {
   "cell_type": "code",
   "execution_count": null,
   "id": "7605713e",
   "metadata": {},
   "outputs": [],
   "source": [
    "plot_time_series(irflation, \"AN\", \"INFLATION\", \"Inflation entre 2014 et 2023, en pourcents\")"
   ]
  },
  {
   "cell_type": "markdown",
   "id": "5634dd50-8347-48e3-942d-28007fcee243",
   "metadata": {},
   "source": [
    "On observe qu'entre 2014 et 2016, la France a connu une inflation relativement basse. Puis, de 2016 à 2018, l'inflation a légèrement augmenté pour atteindre des niveaux plus proches de l'objectif de la Banque centrale européenne (BCE) qui vise une inflation inférieure mais proche de 2%. Ensuite, la crise du Covid en 2020 a de nouveau fait baisser l'inflation. En effet, les mesures de confinement ont contribué à une baisse de la demande et à une pression à la baisse des prix. Mais en 2022, l'inflation a fortement augmenté pour atteindre les 5%, cela est lié notamment à l'invasion de l'Ukraine par la Russie. L'inflation représenté sur ce graphique en 2023 concerne uniquement le premier trimestre. \n",
    "\n",
    "Ainsi, l'inflation impacte nos données principalement à partir de 2021."
   ]
  },
  {
   "cell_type": "code",
   "execution_count": null,
   "id": "abac15b7",
   "metadata": {},
   "outputs": [],
   "source": [
    "interest_rates['Date'] = pd.to_datetime(interest_rates['Date'], format='%Y%m%d')\n",
    "plot_time_series(interest_rates, \"Date\", \"ir\", \"Taux d'interet moyen entre 2014 et 2023, en pourcentage\")"
   ]
  },
  {
   "cell_type": "markdown",
   "id": "14e1a74a-fe85-4258-a27d-958c2678febd",
   "metadata": {},
   "source": [
    "Le taux d'interet moyen pratiqué sur les crédits immobiliers a varié de façon assez significative sur la période étudié, ce qui devrait nous permettre de plus facilement identifier son effet sur les marchés locaux."
   ]
  },
  {
   "cell_type": "code",
   "execution_count": null,
   "id": "c6dccd96-3dad-4c9f-9285-14fabc30b58e",
   "metadata": {},
   "outputs": [],
   "source": [
    "immo_panel_com['DateF'] = pd.to_datetime(immo_panel_com['Date'], format='%Y%m%d')\n",
    "immo_panel_com_grouped = immo_panel_com.groupby('DateF').agg({'n_transactions': 'sum'}).reset_index()\n",
    "plot_time_series(immo_panel_com_grouped, 'DateF', 'n_transactions', \n",
    "                 \"Évolution du nombre de transactions, France DVF, 2014T1-2023T2\")"
   ]
  },
  {
   "cell_type": "markdown",
   "id": "7eb08e3d-ac57-4cb6-b190-cb1edb784be8",
   "metadata": {},
   "source": [
    "Le nombre trimestriel de transacitons augmente d'années en années jusqu'au millieu de l'année 2021, qui marque le début d'une baisse prononcé des transactions. Il semble y avoir une corrélation négative entre le taux d'interet et le nombre de transactions."
   ]
  },
  {
   "cell_type": "code",
   "execution_count": null,
   "id": "e8049a1c-b4dd-44cf-944d-199a6522d9b4",
   "metadata": {},
   "outputs": [],
   "source": [
    "np.corrcoef(immo_panel_com_grouped[\"n_transactions\"], interest_rates[interest_rates[\"ir\"]!=3.25][\"ir\"])"
   ]
  },
  {
   "cell_type": "markdown",
   "id": "353fd60f-f974-43ad-89ed-8d452e0173e7",
   "metadata": {},
   "source": [
    "Cette corrélation est donc d'environ -0.67."
   ]
  },
  {
   "cell_type": "code",
   "execution_count": null,
   "id": "783135de",
   "metadata": {},
   "outputs": [],
   "source": [
    "immo_panel_full['DateF'] = pd.to_datetime(immo_panel_full['Date'], format='%Y%m%d')\n",
    "plot_time_series(immo_panel_full, 'DateF', 'prixM2', \n",
    "                 \"Évolution des prix immonilier, France DVF, 2014T1-2023T2\")"
   ]
  },
  {
   "cell_type": "code",
   "execution_count": null,
   "id": "b31d244a-6fc8-40b1-a29f-e0b3329219b2",
   "metadata": {},
   "outputs": [],
   "source": [
    "np.corrcoef(immo_panel_full[\"prixM2\"], interest_rates[interest_rates[\"ir\"]!=3.25][\"ir\"])"
   ]
  },
  {
   "cell_type": "markdown",
   "id": "ae6a5f26-953d-4d7b-a76a-64fca628b729",
   "metadata": {},
   "source": [
    "Étonnement, il semble y avoir une corrélations positive entre le taux d'interet et les prix immobliers en France sur la période. Cependant, il s'agit très probablement d'une corrélation falacieuse liée à la non stationarité des prix immobiliers. "
   ]
  },
  {
   "cell_type": "code",
   "execution_count": null,
   "id": "3d8eaa30",
   "metadata": {},
   "outputs": [],
   "source": [
    "# Evolution des prix parisiens ---\n",
    "paris_data = immo_panel_com[immo_panel_com['LIB_COM'].str.startswith('Paris ')]\n",
    "paris_data = paris_data.sort_values(by='DateF')\n",
    "window_size = 5  \n",
    "paris_data['Moving_Average'] = paris_data.groupby('LIB_COM')['prixM2'].transform(lambda x: x.rolling(window=window_size).mean())\n",
    "plt.figure(figsize=(12, 8))\n",
    "palette = sns.color_palette(\"husl\", n_colors=len(paris_data['LIB_COM'].unique()))\n",
    "sns.lineplot(data=paris_data, x='DateF', y='prixM2', hue='LIB_COM',palette=palette,alpha=0.3)\n",
    "sns.lineplot(data=paris_data, x='DateF', y='Moving_Average', hue='LIB_COM',palette=palette, alpha=0.8, legend=None)\n",
    "plt.title('Évolution des prix immobiliers avec moyenne mobile, Paris, 2014T1-2023T2')\n",
    "plt.xlabel('Date')\n",
    "plt.ylabel('Prix M2')\n",
    "plt.xticks(rotation=45)\n",
    "sns.set_theme(style=\"whitegrid\")\n",
    "handles, labels = plt.gca().get_legend_handles_labels()\n",
    "sorted_handles_labels = sorted(zip(handles[1:], labels[1:]), key=lambda t: t[1])  # Skip the first handle/label if it's the automatically generated one\n",
    "sorted_handles, sorted_labels = zip(*sorted_handles_labels)\n",
    "num_items = len(handles) - 1  \n",
    "num_columns_per_row = num_items // 2 + (num_items % 2 > 0)  \n",
    "plt.legend(handles=sorted_handles, labels=sorted_labels, loc='upper center',\n",
    "           bbox_to_anchor=(0.5, -0.1), fancybox=True, shadow=True,\n",
    "           ncol=num_columns_per_row)\n",
    "plt.tight_layout()\n",
    "plt.show()"
   ]
  },
  {
   "cell_type": "markdown",
   "id": "55bc6435-9842-49cf-9a7c-5aad30ec4c1e",
   "metadata": {},
   "source": [
    "Cependant, à un niveau micro, on remarque que dans certaines localités comme Paris les prix ont commencé à baisser."
   ]
  },
  {
   "cell_type": "markdown",
   "id": "2503ee6a",
   "metadata": {},
   "source": [
    "## Partie II - Création des variables de contrôle"
   ]
  },
  {
   "cell_type": "markdown",
   "id": "4c62a76b-987d-4189-bbac-41d8e49bc366",
   "metadata": {
    "jp-MarkdownHeadingCollapsed": true
   },
   "source": [
    "### II-1 Récupération des donnée"
   ]
  },
  {
   "cell_type": "markdown",
   "id": "32fac20e",
   "metadata": {},
   "source": [
    "### Chômage"
   ]
  },
  {
   "cell_type": "code",
   "execution_count": null,
   "id": "b5d97483",
   "metadata": {},
   "outputs": [],
   "source": [
    "#IMPORT UNEMPLOYMENT DATA\n",
    "#source https://www.insee.fr/fr/statistiques/1893230\n",
    "t_passage = pd.read_feather(path+\"/data/interim/tble_de_passage_py.feather\")[[\"COM\",\"ZE\",\"LIB_COM\", \"LIB_ZE\", \"EPCI\", \"LIB_EPCI\"]].drop_duplicates()\n",
    "unemployement = pd.read_excel(path+\"/data/external/unemployment/chomage-zone-t1-2003-t3-2023.xlsx\", \n",
    "                               sheet_name=\"txcho_ze\", skiprows=5)\n",
    "unemployement_long = pd.melt(unemployement, id_vars=['ZE2020', 'LIBZE2020', 'REG', 'LIBREG'],\n",
    "                             var_name='Date', value_name='UNEMP')"
   ]
  },
  {
   "cell_type": "code",
   "execution_count": null,
   "id": "08acc7bb",
   "metadata": {},
   "outputs": [],
   "source": [
    "def transform_date(date):\n",
    "    if date.endswith('-T1'):\n",
    "        return date[:4] + '0101'\n",
    "    elif date.endswith('-T2'):\n",
    "        return date[:4] + '0401'\n",
    "    elif date.endswith('-T3'):\n",
    "        return date[:4] + '0701'\n",
    "    elif date.endswith('-T4'):\n",
    "        return date[:4] + '1001'\n",
    "    else:\n",
    "        return pd.NA"
   ]
  },
  {
   "cell_type": "code",
   "execution_count": null,
   "id": "f38632f7",
   "metadata": {},
   "outputs": [],
   "source": [
    "unemployement_long['Date'] = unemployement_long['Date'].apply(transform_date)\n",
    "unemployement_long = unemployement_long[pd.to_numeric(unemployement_long['Date'], errors='coerce') > 20131231]"
   ]
  },
  {
   "cell_type": "code",
   "execution_count": null,
   "id": "4466dd74",
   "metadata": {},
   "outputs": [],
   "source": [
    "unemployement_long.head()"
   ]
  },
  {
   "cell_type": "markdown",
   "id": "96c5c0cc",
   "metadata": {},
   "source": [
    "### Revenus"
   ]
  },
  {
   "cell_type": "code",
   "execution_count": null,
   "id": "02b8dc8d",
   "metadata": {},
   "outputs": [],
   "source": [
    "#IMPORT AVAILABLE INCOME DATA  \n",
    "#source https://www.insee.fr/fr/statistiques/3126151\n",
    "#source https://www.insee.fr/fr/statistiques/6036907\n",
    "\n",
    "income2014 = pd.read_excel(path+\"/data/external/revenus/indic-struct-distrib-revenu-2014-COMMUNES/indic-struct-distrib-revenu-2014-COMMUNES/FILO_DISP_COM.xls\", \n",
    "                               sheet_name=\"ENSEMBLE\", skiprows=5)\n",
    "income2014 = income2014[[\"CODGEO\",\"Q214\"]]\n",
    "\n",
    "income2019 = pd.read_excel(path+\"/data/external/revenus/indic-struct-distrib-revenu-2019-COMMUNES/FILO2019_DISP_COM.xlsx\", \n",
    "                               sheet_name=\"ENSEMBLE\", skiprows=5)\n",
    "income2019 = income2019[[\"CODGEO\",\"Q219\", \"GI19\"]]"
   ]
  },
  {
   "cell_type": "code",
   "execution_count": null,
   "id": "dd3941b9",
   "metadata": {},
   "outputs": [],
   "source": [
    "#MERGE \n",
    "income2014_2019 = pd.merge(income2014, income2019, how='inner', on = [\"CODGEO\"])"
   ]
  },
  {
   "cell_type": "code",
   "execution_count": null,
   "id": "f8708f57",
   "metadata": {},
   "outputs": [],
   "source": [
    "#ADD column Mediane_evol_diff to observe the evolution of available income between 2019 and 2019\n",
    "income2014_2019[\"med_change\"] = income2014_2019[\"Q219\"]/income2014_2019[\"Q214\"]\n",
    "income2014_2019[\"CODGEO\"] = income2014_2019[\"CODGEO\"].astype(str) #preventive bug correction"
   ]
  },
  {
   "cell_type": "code",
   "execution_count": null,
   "id": "d9bc29a5",
   "metadata": {},
   "outputs": [],
   "source": [
    "income2014_2019.head()"
   ]
  },
  {
   "cell_type": "code",
   "execution_count": null,
   "id": "f843f029-4e3d-440c-ae91-b5083e09da7a",
   "metadata": {},
   "outputs": [],
   "source": [
    "sns.kdeplot(income2019[[\"Q219\"]], fill=True, label= \"2019\",palette='Blues')\n",
    "sns.kdeplot(income2014[[\"Q214\"]], fill=True, label = \"2014\",palette='Greens')\n",
    "plt.xlabel('Revenu médian par an en euros')\n",
    "plt.ylabel('Densité')\n",
    "plt.legend()\n",
    "plt.title(\"Densité du revenu médian en 2014 et 2019\")\n",
    "plt.show()"
   ]
  },
  {
   "cell_type": "markdown",
   "id": "27bb11a1",
   "metadata": {},
   "source": [
    "### Densité de population"
   ]
  },
  {
   "cell_type": "code",
   "execution_count": null,
   "id": "a4cb3687",
   "metadata": {},
   "outputs": [],
   "source": [
    "#IMPORT POPULATION AND SURFACE\n",
    "#https://www.insee.fr/fr/statistiques/7632565\n",
    "population = pd.read_excel(path+\"/data/external/pop_density/base-cc-serie-historique-2020.xlsx\", \n",
    "                               sheet_name=\"COM_2020\", skiprows=5)[[\"CODGEO\",\"P20_POP\",\"P14_POP\", \"SUPERF\"]]\n",
    "population = population[~population['CODGEO'].isin([\"75056\", \"69123\", \"13055\"])]  #Remove Paris, Lyon, Marseille                             \n",
    "                               \n",
    "population_arr = pd.read_excel(path+\"/data/external/pop_density/base-cc-serie-historique-2020.xlsx\", \n",
    "                               sheet_name=\"ARM_2020\", skiprows=5)[[\"CODGEO\",\"P20_POP\",\"P14_POP\", \"SUPERF\"]]\n",
    "\n",
    "population_arr.loc[population_arr['CODGEO'] == \"75112\", 'SUPERF'] = 6.37 #correct for Bois de Vincennes\n",
    "population_arr.loc[population_arr['CODGEO'] == \"75116\", 'SUPERF'] = 7.91 #correct for Bois de Boulogne\n"
   ]
  },
  {
   "cell_type": "code",
   "execution_count": null,
   "id": "f3a2a826",
   "metadata": {},
   "outputs": [],
   "source": [
    "densite = pd.concat([population, population_arr], axis=0, ignore_index=True)\n",
    "#create popdensity2014 and popdensity2020 : population/surface\n",
    "densite[\"popdensity2014\"] = densite[\"P14_POP\"] / densite[\"SUPERF\"]\n",
    "densite[\"popdensity2020\"] = densite[\"P20_POP\"] / densite[\"SUPERF\"]\n",
    "densite[\"CODGEO\"] = densite[\"CODGEO\"].astype(str) #preventive bug correction"
   ]
  },
  {
   "cell_type": "code",
   "execution_count": null,
   "id": "a3eb880e",
   "metadata": {},
   "outputs": [],
   "source": [
    "densite.head()"
   ]
  },
  {
   "cell_type": "code",
   "execution_count": null,
   "id": "345c2adb",
   "metadata": {},
   "outputs": [],
   "source": [
    "#MERGE INCOME2014_2019 AND DENSITE\n",
    "control_var = pd.merge(income2014_2019,densite,how=\"inner\",on=[\"CODGEO\"])"
   ]
  },
  {
   "cell_type": "code",
   "execution_count": null,
   "id": "8fea3db9-127e-471d-83d7-a7c28251b3c0",
   "metadata": {},
   "outputs": [],
   "source": [
    "plt.subplot\n",
    "sns.kdeplot(densite[[\"popdensity2020\"]], fill=True, label= \"2020\",palette='Blues')\n",
    "plt.xlabel('Densité de population')\n",
    "plt.ylabel('Densité')\n",
    "plt.legend()\n",
    "plt.title('Densité de la densité de population en 2014 et 2020 (tronque à 2000) ')\n",
    "plt.show()"
   ]
  },
  {
   "cell_type": "markdown",
   "id": "90c8db9d",
   "metadata": {},
   "source": [
    "### Accessibilité aux médecins généralistes"
   ]
  },
  {
   "cell_type": "code",
   "execution_count": null,
   "id": "ac6a13c0",
   "metadata": {},
   "outputs": [],
   "source": [
    "#IMPORT PHYSICISTS accessibility\n",
    "#source https://data.drees.solidarites-sante.gouv.fr/explore/dataset/530_l-accessibilite-potentielle-localisee-apl/information/\n",
    "physicist = pd.read_excel(path+\"/data/external/physicist/Indicateur d'accessibilité potentielle localisée (APL) aux médecins généralistes.xlsx\",sheet_name=\"APL_2019\", skiprows=8)\n",
    "physicist = physicist[[\"Code commune INSEE\",\"APL aux médecins généralistes de moins de 65 ans\"]]\n",
    "#renaming variables \n",
    "physicist = physicist.rename(columns ={\"Code commune INSEE\": \"CODGEO\", \"APL aux médecins généralistes de moins de 65 ans\" : \"Physicist_access\"})\n",
    "physicist = physicist.dropna()\n"
   ]
  },
  {
   "cell_type": "code",
   "execution_count": null,
   "id": "f2f0b705",
   "metadata": {},
   "outputs": [],
   "source": [
    "physicist.head()"
   ]
  },
  {
   "cell_type": "code",
   "execution_count": null,
   "id": "89f6aa6a",
   "metadata": {},
   "outputs": [],
   "source": [
    "#MERGE\n",
    "control_var = pd.merge(control_var,physicist,how=\"inner\",on=\"CODGEO\")"
   ]
  },
  {
   "cell_type": "markdown",
   "id": "9a111e31",
   "metadata": {},
   "source": [
    "### Taux de criminalité"
   ]
  },
  {
   "cell_type": "code",
   "execution_count": null,
   "id": "d4cab445",
   "metadata": {},
   "outputs": [],
   "source": [
    "#IMPORT CRIMINALITY\n",
    "#source (not compressed version) https://www.data.gouv.fr/fr/datasets/bases-statistiques-communale-et-departementale-de-la-delinquance-enregistree-par-la-police-et-la-gendarmerie-nationales/#/resources\n",
    "criminality = pd.read_csv(path+\"/data/external/criminality/donnee-data.gouv-2022-geographie2023-produit-le2023-07-17.csv\",sep=\",\")\n",
    "criminality = criminality.rename(columns = {\"CODGEO_2023\":\"CODGEO\"})\n",
    "criminality['tauxpourmille'] = criminality['tauxpourmille'].fillna(criminality['complementinfotaux'])\n",
    "criminality19 = criminality[criminality[\"annee\"].isin([19])]\n",
    "criminality19['tauxpourmille'] = criminality19['tauxpourmille'].str.replace(\",\", \".\").astype(float)"
   ]
  },
  {
   "cell_type": "code",
   "execution_count": null,
   "id": "e66cd772",
   "metadata": {},
   "outputs": [],
   "source": [
    "burglary19 = criminality19[criminality19[\"classe\"].isin([\"Cambriolages de logement\"])] #around 70% of Nan in the column tauxpourmille\n",
    "burglary19 = burglary19[[\"CODGEO\",\"tauxpourmille\"]]\n",
    "burglary19 = burglary19.rename(columns = {\"tauxpourmille\":\"burglary_for_1000\"})"
   ]
  },
  {
   "cell_type": "code",
   "execution_count": null,
   "id": "a5280914",
   "metadata": {},
   "outputs": [],
   "source": [
    "burglary19.head()"
   ]
  },
  {
   "cell_type": "code",
   "execution_count": null,
   "id": "e6fbd9c2",
   "metadata": {},
   "outputs": [],
   "source": [
    "assault19 = criminality19[criminality19[\"classe\"].isin([\"Coups et blessures volontaires\"])] #around 60% of Nan in the column faits (number of occurence)\n",
    "assault19= assault19[[\"CODGEO\",\"tauxpourmille\"]]\n",
    "assault19 = assault19.rename(columns = {\"tauxpourmille\":\"assault_for_1000\"})"
   ]
  },
  {
   "cell_type": "code",
   "execution_count": null,
   "id": "6041bcef",
   "metadata": {},
   "outputs": [],
   "source": [
    "assault19.head()"
   ]
  },
  {
   "cell_type": "code",
   "execution_count": null,
   "id": "1963673c",
   "metadata": {},
   "outputs": [],
   "source": [
    "otherassault19 = criminality19[criminality19[\"classe\"].isin([\"Autres coups et blessures volontaires\"])] #around 45% of Nan in the column faits (number of occurence)\n",
    "otherassault19= otherassault19[[\"CODGEO\",\"tauxpourmille\"]]\n",
    "otherassault19 = otherassault19.rename(columns = {\"tauxpourmille\":\"other_assault_for_1000\"})"
   ]
  },
  {
   "cell_type": "code",
   "execution_count": null,
   "id": "05058e3a",
   "metadata": {},
   "outputs": [],
   "source": [
    "otherassault19.head()"
   ]
  },
  {
   "cell_type": "code",
   "execution_count": null,
   "id": "c16b9480",
   "metadata": {},
   "outputs": [],
   "source": [
    "destruction19 = criminality19[criminality19[\"classe\"].isin([\"Destructions et dégradations volontaires\"])] #around 70% of Nan in the column faits (number of occurence)\n",
    "destruction19 = destruction19[[\"CODGEO\",\"tauxpourmille\"]]\n",
    "destruction19 = destruction19.rename(columns = {\"tauxpourmille\":\"destruction_for_1000\"})"
   ]
  },
  {
   "cell_type": "code",
   "execution_count": null,
   "id": "3fd1ebf4",
   "metadata": {},
   "outputs": [],
   "source": [
    "destruction19.head()"
   ]
  },
  {
   "cell_type": "markdown",
   "id": "96aa7092-4381-4b00-bd3f-3bc2a294e787",
   "metadata": {},
   "source": [
    "### II-2 Création d'une table variable de contrôle "
   ]
  },
  {
   "cell_type": "code",
   "execution_count": null,
   "id": "db2dc4ad",
   "metadata": {},
   "outputs": [],
   "source": [
    "#MERGE WITH control_var\n",
    "control_var = pd.merge(control_var,burglary19,how=\"left\",on=\"CODGEO\")\n",
    "control_var = pd.merge(control_var,assault19,how=\"left\",on=\"CODGEO\")\n",
    "control_var = pd.merge(control_var,otherassault19,how=\"left\",on=\"CODGEO\")\n",
    "control_var = pd.merge(control_var,destruction19,how=\"left\",on=\"CODGEO\")"
   ]
  },
  {
   "cell_type": "code",
   "execution_count": null,
   "id": "a7da4f52",
   "metadata": {},
   "outputs": [],
   "source": [
    "#MERGE WITH TABLE DE PASSAGE\n",
    "control_var = pd.merge(t_passage,control_var,how=\"right\",right_on=\"CODGEO\", left_on=\"COM\")"
   ]
  },
  {
   "cell_type": "code",
   "execution_count": null,
   "id": "5deeeaed",
   "metadata": {},
   "outputs": [],
   "source": [
    "control_var.head()"
   ]
  },
  {
   "cell_type": "markdown",
   "id": "8ddfe596",
   "metadata": {},
   "source": [
    "**Définition des variables** \n",
    "\n",
    "| Variable | Description  |  Source | \n",
    "|---|---|---|\n",
    "| Q214   | Revenu disponible médian par unité de consommation en 2014 (€)  | INSEE  | \n",
    "| Q219   | Revenu disponible médian par unité de consommation en 2014 (€) | INSEE  | \n",
    "| GI19   | Indice de Gini en 2019  | INSEE  | \n",
    "| popdensity2014   | Densité de population en 2014 (nombre d'habitants/surface)   | INSEE  | \n",
    "| popdensity2020   | Densité de population en 2020 (nombre d'habitants/surface)  | INSEE  | \n",
    "| Physicist_access   | Indicateur d'ccessibilité potentielle localisée (APL) aux médecins généralistes* | Ministère de la santé  | \n",
    "| burglary_for_1000   | Nombre de cambriolages pour 1000 habitants en 2019  | Ministère de l'intérieur  | \n",
    "| assault_for_1000   | Nombre de coups et blessures volontaires pour 1000 habitants en 2019  | Ministère de l'intérieur  | \n",
    "| other_assault_for_1000   | Nombre d'autres coups et blessures volontaires pour 1000 habitants en 2019   | Ministère de l'intérieur  | \n",
    "| destruction_for_1000  | Nombre de destructions et dégradations volontaires pour 1000 habitants en 2019   | Ministère de l'intérieur  | \n",
    "\n",
    "*DREES: \"L’indicateur d’accessibilité potentielle localisée (APL) a été développé pour mesurer l’adéquation spatiale entre l’offre et la demande de soins de premier recours à un échelon géographique fin. C'est un indicateur local, disponible au niveau de chaque commune, qui tient compte de l’offre et de la demande issues des communes environnantes. Calculé à l’échelle communale, l’APL met en évidence des disparités d’offre de soins qu’un indicateur usuel de densité, calculé sur des mailles beaucoup plus larges aurait tendance à masquer. Il tient également compte du niveau d’activité des professionnels en exercice ainsi que de la structure par âge de la population de chaque commune qui influence les besoins de soins.\""
   ]
  },
  {
   "cell_type": "code",
   "execution_count": null,
   "id": "2e9bb333",
   "metadata": {},
   "outputs": [],
   "source": [
    "# Writing output\n",
    "feather.write_feather(control_var, path+\"/data/interim/TI_controls.feather\")\n",
    "feather.write_feather(unemployement_long, path+\"/data/interim/TV_controls.feather\")"
   ]
  },
  {
   "cell_type": "markdown",
   "id": "be24a735-1af8-459f-84f1-aed85102ca07",
   "metadata": {},
   "source": [
    "### II-3 Visualisations supplémentaires des données de controle"
   ]
  },
  {
   "cell_type": "code",
   "execution_count": null,
   "id": "fac1e2e4-c4b2-47dd-b2dc-a4e2841fe570",
   "metadata": {},
   "outputs": [],
   "source": [
    "P14_POP_by_ZE = control_var.groupby('ZE')['P14_POP'].sum() #population niveau ZE en 2014\n",
    "dfhealth = control_var\n",
    "dfhealth[\"Physicist_access_pondere\"] = control_var['Physicist_access'] * control_var[\"P14_POP\"] #multiplie Physicist_access par la population\n",
    "dfhealth = dfhealth.groupby('ZE')['Physicist_access_pondere'].sum() \n",
    "dfhealth = pd.merge(dfhealth,P14_POP_by_ZE,on=\"ZE\")\n",
    "dfhealth[\"Physicist_access_ZE\"] = dfhealth[\"Physicist_access_pondere\"]/dfhealth[\"P14_POP\"]\n",
    "dfhealth = dfhealth[[\"Physicist_access_ZE\"]]\n",
    "dfhealth[\"Physicist_access_ZE\"] = dfhealth[\"Physicist_access_ZE\"].astype(float)\n",
    " \n",
    "full_map3 = ze_shp.merge(dfhealth, on=\"ZE\", how=\"left\")\n",
    "\n",
    "\n",
    "\n",
    "\n",
    "plot_map(full_map3, \n",
    "         'Physicist_access_ZE', \"Physicist_access en 2014 par zone d'emploi\", \n",
    "         \"YlGnBu\")"
   ]
  },
  {
   "cell_type": "code",
   "execution_count": null,
   "id": "9066a3c6-eb13-45c7-8f26-0615b8837889",
   "metadata": {},
   "outputs": [],
   "source": [
    "dassault = control_var\n",
    "dassault[\"assault_for_1000_pondere\"] = control_var['assault_for_1000'] * control_var[\"P14_POP\"] #multiplie Physicist_access par la population\n",
    "dassault = dassault.groupby('ZE')['assault_for_1000_pondere'].sum() \n",
    "dassault = pd.merge(dassault,P14_POP_by_ZE,on=\"ZE\")\n",
    "dassault[\"assault_for_1000_ZE\"] = dassault[\"assault_for_1000_pondere\"]/dassault[\"P14_POP\"]\n",
    "dassault = dassault[[\"assault_for_1000_ZE\"]]\n",
    "dassault[\"assault_for_1000_ZE\"] = dassault[\"assault_for_1000_ZE\"].astype(float)\n",
    " \n",
    "full_map3 = ze_shp.merge(dassault, on=\"ZE\", how=\"left\")\n",
    "\n",
    "\n",
    "\n",
    "\n",
    "plot_map(full_map3, \n",
    "         'assault_for_1000_ZE', \"Aggression pour mille en France par ZE\", \n",
    "         \"YlGnBu\")"
   ]
  },
  {
   "cell_type": "markdown",
   "id": "7c5ab274",
   "metadata": {},
   "source": [
    "## Partie III - Modélisation économétrique"
   ]
  },
  {
   "cell_type": "markdown",
   "id": "696bec99",
   "metadata": {},
   "source": [
    "Dans cette section consacrée à la modélisation, nous ferons appel à des méthodes économétriques afin de tenter de répondre à la problématique centrale de ce projet : dans quelle mesure la hausse récente des taux d'intérêt impacte-t-elle différemment les marchés immobiliers locaux en fonction des caractéristiques de chaque ville ?\n",
    "\n",
    "Comme mentionné dans les sections précédentes, la disponibilité des variables d'intérêt sous une forme évolutive dans le temps est limitée, ce qui contraint l'usage de méthodes de séries temporelles en panel telles que les PVAR. Par conséquent, nous privilégions des méthodes classiques d'économétrie de panel, telles que les modèles à effets fixes.\n",
    "\n",
    "Le modèle principal de cette analyse est un modèle à effets fixes. Il intègre comme variables d'intérêt le retard (lag) du taux d'intérêt en interaction avec différentes caractéristiques locales, tout en contrôlant les effets annuels et la structure des transactions effectuées. Des modèles supplémentaires à différents niveaux géographiques sont estimés pour tester la robustesse de nos résultats.\n",
    "\n",
    "Les prix immobiliers utilisés sont exprimés, sauf indication contraire, en euros 2014."
   ]
  },
  {
   "cell_type": "code",
   "execution_count": null,
   "id": "5ac4b2da",
   "metadata": {},
   "outputs": [],
   "source": [
    "# Custom Functions\n",
    "def merge_and_transform(base_df, irflation_df, control_df, base_col, min_transactions=30, required_count=38):\n",
    "    base_df=base_df.drop(columns=[\"LIB_\"+base_col])\n",
    "    df = base_df[base_df['n_transactions'] > min_transactions]\n",
    "    df['n'] = df.groupby(base_col)[base_col].transform('count')\n",
    "    df = df[df['n'] == required_count].drop(columns='n')\n",
    "    df = df.merge(irflation_df, on='Date', how='left')\n",
    "    df = df.merge(control_df, on=base_col, how='left')\n",
    "    df['prixM2'] = df['prixM2'] / df['BASE14']\n",
    "    df['log_prixM2'] = np.log(df['prixM2'])\n",
    "    df['Q219'] = df['Q219'] / irflation['BASE14'][20]\n",
    "    df['med_change'] = (df['Q219'] / irflation_df['BASE14'][20]) - (df['Q214'] / irflation_df['BASE14'][0])\n",
    "    df['dens_change'] = df['popdensity2020'] - df['popdensity2014']\n",
    "    return df"
   ]
  },
  {
   "cell_type": "code",
   "execution_count": null,
   "id": "320f0d77",
   "metadata": {},
   "outputs": [],
   "source": [
    "def group_and_calculate_diff(df, group_cols):\n",
    "    df = df.sort_values(by=group_cols + ['Date'])\n",
    "    grouped = df.groupby(group_cols)\n",
    "    df['diff_prixM2'] = grouped['prixM2'].diff().fillna(np.nan)\n",
    "    df['diff2_prixM2'] = grouped['prixM2'].diff().diff().fillna(np.nan)\n",
    "    df['year'] = df['Date'].str[:4]\n",
    "    df['trim'] = df['Date'].str[5:6]\n",
    "    df['diff2_prop_maison'] = grouped['prop_maison'].diff().fillna(np.nan)\n",
    "    df['diff_ir'] = grouped['ir'].diff().fillna(np.nan)\n",
    "    df['lag_ir'] = grouped['ir'].shift(1)\n",
    "    df['lag2_ir'] = grouped['ir'].shift(2)\n",
    "    df['lag3_ir'] = grouped['ir'].shift(3)\n",
    "    df['lag4_ir'] = grouped['ir'].shift(4)\n",
    "    df['diff_lag_ir'] = grouped['lag_ir'].diff().fillna(np.nan)\n",
    "    df['diff2_lag_ir'] = grouped['lag_ir'].diff().diff().fillna(np.nan)\n",
    "    \n",
    "    for var in ['popdensity2020', 'med_change', 'Physicist_access', 'Q219', 'prop_maison', 'assault_for_1000', 'dens_change']:\n",
    "      df[f'lag3_ir_{var}'] = df['lag3_ir'] * df[var]\n",
    "    df['prixM2_FE'] = grouped['prixM2'].transform(lambda x: x - x.mean()) #Within transformation\n",
    "    df['log_prixM2_FE'] = grouped['log_prixM2'].transform(lambda x: x - x.mean()) #Within transformation\n",
    "    df['lag3_ir_FE'] = grouped['lag3_ir'].transform(lambda x: x - x.mean()) #Within transformation\n",
    "    df['prop_maison_FE'] = grouped['prop_maison'].transform(lambda x: x - x.mean()) #Within transformation\n",
    "    df['popdensity2020_ir_FE'] = grouped['lag3_ir_popdensity2020'].transform(lambda x: x - x.mean()) #Within transformation\n",
    "    df['med_change_ir_FE'] = grouped['lag3_ir_med_change'].transform(lambda x: x - x.mean()) #Within transformation\n",
    "    df['Physicist_access_ir_FE'] = grouped['lag3_ir_Physicist_access'].transform(lambda x: x - x.mean()) #Within transformation\n",
    "    df['Q219_ir_FE'] = grouped['lag3_ir_Q219'].transform(lambda x: x - x.mean()) #Within transformation\n",
    "    df['prop_maison_ir_FE'] = grouped['lag3_ir_prop_maison'].transform(lambda x: x - x.mean()) #Within transformation\n",
    "    df['assault_for_1000_ir_FE'] = grouped['lag3_ir_assault_for_1000'].transform(lambda x: x - x.mean()) #Within transformation\n",
    "    df['dens_change_ir_FE'] = grouped['lag3_ir_dens_change'].transform(lambda x: x - x.mean()) #Within transformation\n",
    "    return df.reset_index(drop=True)"
   ]
  },
  {
   "cell_type": "code",
   "execution_count": null,
   "id": "17a9a0c0",
   "metadata": {},
   "outputs": [],
   "source": [
    "def run_regression(df, formula):\n",
    "    model = smf.ols(formula, data=df)\n",
    "    results = model.fit()\n",
    "    return(results)"
   ]
  },
  {
   "cell_type": "code",
   "execution_count": null,
   "id": "e1f689f0",
   "metadata": {},
   "outputs": [],
   "source": [
    "def aggregate_data(df, group_cols, agg_dict):\n",
    "    agg_df = df.groupby(group_cols).agg(agg_dict).reset_index()\n",
    "    agg_df['popdensity2020'] = agg_df['P20_POP'] / agg_df['SUPERF']\n",
    "    agg_df['popdensity2014'] = agg_df['P14_POP'] / agg_df['SUPERF']\n",
    "    return agg_df.drop(columns=['P20_POP', 'P14_POP', 'SUPERF'])"
   ]
  },
  {
   "cell_type": "code",
   "execution_count": null,
   "id": "07513807",
   "metadata": {},
   "outputs": [],
   "source": [
    "def corplot(df, nom):\n",
    "  plt.figure(figsize=(10, 8))\n",
    "  sns.heatmap(df, annot=True, cmap='coolwarm')\n",
    "  plt.title('Correlations intra-ville pour '+nom)\n",
    "  plt.show()"
   ]
  },
  {
   "cell_type": "code",
   "execution_count": null,
   "id": "10b244c5",
   "metadata": {},
   "outputs": [],
   "source": [
    "def cor_ville(df, nom):\n",
    "  df = df[df['LIB_COM']==nom]\n",
    "  df = df[[\"prixM2\", \"ir\",\"lag_ir\",\"lag2_ir\",\"lag3_ir\",\"lag4_ir\", \"prop_maison\"]].dropna().corr()\n",
    "  return(df)"
   ]
  },
  {
   "cell_type": "code",
   "execution_count": null,
   "id": "abd5d0a8",
   "metadata": {},
   "outputs": [],
   "source": [
    "# Reading Data\n",
    "base_path = path + \"/data/interim/\"\n",
    "immo_epci = pd.read_feather(base_path + \"immo_panel_epci_py.feather\")\n",
    "immo_ze = pd.read_feather(base_path + \"immo_panel_ze_py.feather\")\n",
    "immo_com = pd.read_feather(base_path + \"immo_panel_com_py.feather\")\n",
    "immo_full = pd.read_feather(base_path + \"immo_panel_full_py.feather\")\n",
    "unemployment = pd.read_feather(base_path + \"TV_controls.feather\")\n",
    "control = pd.read_feather(base_path + \"TI_controls.feather\")\n",
    "irflation = pd.read_feather(base_path + \"irflation.feather\")"
   ]
  },
  {
   "cell_type": "code",
   "execution_count": null,
   "id": "6cf958b2",
   "metadata": {},
   "outputs": [],
   "source": [
    "# Aggregate data\n",
    "agg_dict_control = {\n",
    "    'Q219': 'mean', 'Q214': 'mean',\n",
    "    'P20_POP': 'sum', 'P14_POP': 'sum',\n",
    "    'SUPERF': 'sum', 'Physicist_access': 'mean',\n",
    "    'assault_for_1000': 'mean'\n",
    "}\n",
    "control_ze = aggregate_data(control, ['ZE', 'LIB_ZE'], agg_dict_control)\n",
    "control_epci = aggregate_data(control, ['EPCI', 'LIB_EPCI'], agg_dict_control)"
   ]
  },
  {
   "cell_type": "code",
   "execution_count": null,
   "id": "d7f5794b",
   "metadata": {},
   "outputs": [],
   "source": [
    "control_ze"
   ]
  },
  {
   "cell_type": "code",
   "execution_count": null,
   "id": "58a5d6c6",
   "metadata": {},
   "outputs": [],
   "source": [
    "# Processing for immo_reg_com\n",
    "immo_reg_com = merge_and_transform(immo_com, irflation, control, 'COM')\n",
    "immo_reg_com_diff = group_and_calculate_diff(immo_reg_com, ['COM'])"
   ]
  },
  {
   "cell_type": "markdown",
   "id": "4b824c85-6ca4-40fa-b614-662ddd6fcef8",
   "metadata": {},
   "source": [
    "Pour obtenir un panel équilibré avec des prix au m2 suffisament stable nous gardons uniquement les villes, les ZE et les EPCI qui ont eu au moins 30 transactions par trimestre. Cela a un impact sur la distribution des prix dans notre sample, en ce qui concerne les villes, les deux densités sont représentées ci-dessous."
   ]
  },
  {
   "cell_type": "code",
   "execution_count": null,
   "id": "346d76f2-bd5a-4890-b4bb-74f4ee7ffcb2",
   "metadata": {},
   "outputs": [],
   "source": [
    "filtered_data = immo_com[immo_com['n_transactions'] > 30][['COM', 'Date', 'prixM2', 'prop_maison', 'n_transactions']]\n",
    "merged_data = filtered_data.merge(irflation, on='Date', how='left').merge(control, on='COM', how='left')\n",
    "grouped = merged_data.groupby('COM').agg(\n",
    "    n=('n_transactions', lambda x: (x > 30).sum()),\n",
    "    popdensity2020=('popdensity2020', 'mean'),\n",
    "    prixM2=('prixM2', 'mean')\n",
    ").reset_index()\n",
    "grouped['Sampling'] = grouped['n'].apply(lambda x: 'In sample' if x == 38 else 'Out of sample')\n",
    "plt.figure(figsize=(10, 6))\n",
    "ax=sns.kdeplot(data=grouped, x='prixM2', hue='Sampling', common_norm=False)\n",
    "plt.title('Density Plot of PrixM2')\n",
    "plt.xlabel('PrixM2')\n",
    "plt.ylabel('Density')\n",
    "ax.set_xlim(-1000, 25000)\n",
    "plt.show()"
   ]
  },
  {
   "cell_type": "markdown",
   "id": "bec935fe-9144-49e5-bff1-d6eac02b1b34",
   "metadata": {},
   "source": [
    "L'effet est encore plus marqué pour les densités. "
   ]
  },
  {
   "cell_type": "code",
   "execution_count": null,
   "id": "0fe7aed3-f584-47e8-acbe-80b80cb2ab19",
   "metadata": {},
   "outputs": [],
   "source": [
    "plt.figure(figsize=(10, 6))\n",
    "ax=sns.kdeplot(data=grouped, x='popdensity2020', hue='Sampling', common_norm=False)\n",
    "plt.title('Density Plot of PrixM2')\n",
    "plt.xlabel('Densité de population en 2020')\n",
    "plt.ylabel('Density')\n",
    "ax.set_xlim(-1000, 25000)\n",
    "plt.show()"
   ]
  },
  {
   "cell_type": "markdown",
   "id": "9de5260d-91bb-4ec2-8d59-caf62d82ce6a",
   "metadata": {},
   "source": [
    "Ainsi, il faut considérer que nos résultats ne sont pas représentatifs de l'ensemble des marchés immobiliers français mais uniquement des marchés immobiliers assez actifs."
   ]
  },
  {
   "cell_type": "code",
   "execution_count": null,
   "id": "6952fc98",
   "metadata": {},
   "outputs": [],
   "source": [
    "# Processing for immo_reg_ze\n",
    "immo_reg_ze = merge_and_transform(immo_ze, irflation, control_ze, 'ZE')\n",
    "immo_reg_ze_diff = group_and_calculate_diff(immo_reg_ze, ['ZE', 'LIB_ZE'])\n",
    "immo_reg_ze_diff = immo_reg_ze_diff.merge(unemployment[['ZE2020', 'Date', 'UNEMP']], left_on=['ZE', 'Date'], right_on=['ZE2020', 'Date'], how='left')\n",
    "immo_reg_ze_diff['lag3_UNEMP'] = immo_reg_ze_diff.groupby(['ZE', 'LIB_ZE'])['UNEMP'].shift(3)\n",
    "immo_reg_ze_diff['lag3_UNEMP_ir'] = immo_reg_ze_diff['lag3_UNEMP']*immo_reg_ze_diff['lag3_ir'] \n",
    "grouped = immo_reg_ze_diff.groupby(['ZE', 'LIB_ZE'])\n",
    "immo_reg_ze_diff['lag3_UNEMP_FE'] = grouped['lag3_UNEMP'].transform(lambda x: x - x.mean()) #Within transformation\n",
    "immo_reg_ze_diff['lag3_UNEMP_ir_FE'] = grouped['lag3_UNEMP_ir'].transform(lambda x: x - x.mean()) #Within transformation"
   ]
  },
  {
   "cell_type": "code",
   "execution_count": null,
   "id": "338c3a27",
   "metadata": {},
   "outputs": [],
   "source": [
    "# Processing for immo_reg_epci\n",
    "immo_reg_epci = merge_and_transform(immo_epci, irflation, control_epci, 'EPCI')\n",
    "immo_reg_epci_diff = group_and_calculate_diff(immo_reg_epci, ['EPCI', 'LIB_EPCI'])"
   ]
  },
  {
   "cell_type": "markdown",
   "id": "48b75820",
   "metadata": {},
   "source": [
    "### Test de Granger"
   ]
  },
  {
   "cell_type": "markdown",
   "id": "2897d4f9",
   "metadata": {},
   "source": [
    "Le marché immobilier, étant moins liquide que les marchés financiers, ne révèle l'impact du taux d'intérêt sur les prix qu'après un certain délai. Il est courant dans la littérature de considérer le retard du taux d'intérêt plutôt que le taux lui-même, comme illustré par Harris (1989) dans _The Effect of Real Rates of Interest on Housing Prices_. Cependant, cette transmission varie selon les caractéristiques des marchés immobiliers et le contexte macroéconomique. Ainsi, pour déterminer le nombre approprié de retards du taux d'intérêt dans l'analyse des marchés locaux en France, nous employons un test de Granger. Ce test évalue si une série temporelle améliore la prédiction d'une autre série temporelle et, par conséquent, si elle est pertinente pour son analyse. $$\\Delta ({p}/m^{2})_t \\sim \\Delta L^n(i_t)$$ Nous cherchons à déterminer si l'utilisation du taux d'intérêt avec plusieurs retards apporte des informations sur les prix immobiliers. L'hypothèse nulle est l'absence de pouvoir prédictif. Pour obtenir des séries stationnaires, nous utilisons la différence. Bien qu'il existe des méthodes pour généraliser le test de Granger à des données en panel (Holtz-Eakin et al., 1988), celles-ci n'ont pas été développées en Python. Pour obtenir une idée générale du nombre de retards requis, nous appliquons le test à quelques villes de tailles variées choisies aléatoirement."
   ]
  },
  {
   "cell_type": "code",
   "execution_count": null,
   "id": "40e759b8",
   "metadata": {},
   "outputs": [],
   "source": [
    "# Granger Causality Test\n",
    "for i in [\"Paris 14\",\"Clermont-Ferrand\",\"Le Grau-du-Roi\", \"Cagnes-sur-Mer\", \"Savigny-sur-Orge\"]:\n",
    "  print(i)\n",
    "  granger_test3 = grangercausalitytests(immo_reg_com_diff[immo_reg_com_diff[\"LIB_COM\"]==i][['diff_prixM2', 'diff_ir']].dropna(), maxlag=5, verbose=True)"
   ]
  },
  {
   "cell_type": "markdown",
   "id": "ae8d52fb",
   "metadata": {},
   "source": [
    "Il apparaît que, selon la commune, si un effet existe, entre 1 et 3 trimestres sont nécessaires pour que le taux d'intérêt ait un pouvoir explicatif sur les prix immobiliers."
   ]
  },
  {
   "cell_type": "markdown",
   "id": "7f8094d9",
   "metadata": {},
   "source": [
    "### Corrélations"
   ]
  },
  {
   "cell_type": "markdown",
   "id": "424da027",
   "metadata": {},
   "source": [
    "Afin d'observer les interactions entre les variables d'intérêt choisies et d'obtenir une première impression de ce que la modélisation peut apporter, il est utile de construire des matrices de corrélations. D'abord, une matrice pour l'ensemble du panel, puis pour les trois premières villes utilisées lors du test de Granger."
   ]
  },
  {
   "cell_type": "code",
   "execution_count": null,
   "id": "24249258",
   "metadata": {},
   "outputs": [],
   "source": [
    "# Total \n",
    "immo_reg_corr =immo_reg_com_diff[[\"prixM2\", \"ir\",\"lag_ir\",\"lag2_ir\",\"lag4_ir\",\"popdensity2020\", \"med_change\", \"Physicist_access\", \"Q219\", \"prop_maison\", \"assault_for_1000\", \"dens_change\"]].dropna().corr()\n",
    "corplot(immo_reg_corr, \"Total\")"
   ]
  },
  {
   "cell_type": "markdown",
   "id": "b7d70478",
   "metadata": {},
   "source": [
    "Cette matrice révèle une corrélation relativement faible entre les prix et le taux d'intérêt, quel que soit le nombre de retards. En revanche, les corrélations sont significatives entre les prix et la densité en 2020, l'évolution des revenus médians dans la commune, la proportion de maisons dans le total des transactions, et les changements de densité. La faible corrélation entre le taux d'intérêt et les prix s'explique probablement par la dimension NN de notre panel, bien plus importante que la dimension TT, le taux d'intérêt étant identique pour toutes les villes à chaque période.\n",
    "\n",
    "Pour vérifier cela, il est possible d'établir des matrices de corrélations pour quelques villes, en excluant les variables constantes dans le temps. Par exemple, pour le 14e arrondissement de Paris : "
   ]
  },
  {
   "cell_type": "code",
   "execution_count": null,
   "id": "de7ed471",
   "metadata": {},
   "outputs": [],
   "source": [
    "# Intra villes\n",
    "for i in [\"Paris 14\",\"Clermont-Ferrand\",\"Le Grau-du-Roi\"]:\n",
    "  corplot(cor_ville(immo_reg_com_diff, i), i)"
   ]
  },
  {
   "cell_type": "markdown",
   "id": "d796f01e",
   "metadata": {},
   "source": [
    "Les corrélations avec le taux d'intérêt sont plus fortes, toujours négatives, et généralement plus élevées dans les deux villes de taille supérieur. De plus, la corrélation est plus forte au premier retard à Paris, tandis que pour Clermont-Ferrand et le Grau-du-Roi, elle est plus importante au troisième retard. Cela pourrait indiquer un effet différencié du taux d'intérêt selon la taille de la ville.\n"
   ]
  },
  {
   "cell_type": "markdown",
   "id": "6b3b88dc",
   "metadata": {},
   "source": [
    "### Modèles communaux"
   ]
  },
  {
   "cell_type": "markdown",
   "id": "9f3689e1",
   "metadata": {},
   "source": [
    "Dans le contexte de données de panel, différents problèmes se posent à l'estimateur OLS (MCO en français), souvent appelé Pooled-OLS (cf. On The Pooling Of Time Series And Cross Section Data, Yair Mundlak, 1978). Deux méthodes fréquemment utilisées pour pallier les limites de POLS sont l'estimation avec effets fixes (fixed-effects) ou effets aléatoires (random-effects). Un modèle à effets fixes est privilégié dans ce projet car il permet d'appréhender les variations intra-groupe tout en contrôlant l'hétérogénéité inobservable constante dans le temps (par exemple, la présence d'une rivière dans la ville). Ce choix est également courant dans la littérature sur l'évaluation des biens immobiliers. Pour plus d'informations sur la méthodologie générale appliquée aux données de panel, voir Econometric Analysis of Cross Section and Panel Data, Wooldridge, 2001."
   ]
  },
  {
   "cell_type": "markdown",
   "id": "1c350f79",
   "metadata": {},
   "source": [
    "#### Modèle Introductif - Modèle simple du taux d'intérêt"
   ]
  },
  {
   "cell_type": "markdown",
   "id": "98ff2019",
   "metadata": {},
   "source": [
    "Pour introduire le modèle principal une régression simple est réalisée via un pooled-OLS sans effets croisés (l'utilisation d'effets fixes est pour l'instant impossible car cela controlerait pour toute l'hétérogéinité innobservable constante dans le temps par individu et certaines de nos variables explicatives sont constantes dans le temps) : $$p_{nt}= \\beta_0+\\beta_iL^3(i_t)+\\beta_MM_{nt} + \\beta_c X_{nc}+\\beta_{D}D+\\varepsilon_t$$ avec $p_{nt}$ le prix des appartements et maisons dans ville $n$ à la période t, $L^3(i_t)$ le troisième retard du taux d'interet à la période t, $M_{nt}$ la proportion de maisons dans le total des transactions immobilières à la période t pour la ville n, $X_{nc}$ la matrice des variables des contrôles constante dans le temps pour la ville $n$ (densité de population en km2 en 2019, revenus médian en 2019, accès à un médecin généraliste, taux d'agressions pour 1000, et la différence de densité et de revenus entre respectivement, 2020/2014 et 2019/2014). $D$ est une variable muette servant à controler les effets fixes de chaque trimestre (par exemple, la situation macroéconomique nationale ou les confinements pendant la période covid). \n",
    "\n",
    "Ainsi, cette régression a pour objectif de vérifier la cohérence des résultats et d'identifier certains problèmes de données (par exemple des valeurs manquantes au niveau des arrondissements de Paris, Lyon ou Marseille). "
   ]
  },
  {
   "cell_type": "code",
   "execution_count": null,
   "id": "e59eb352",
   "metadata": {},
   "outputs": [],
   "source": [
    "# Model 1a\n",
    "model1a= 'prixM2 ~ lag3_ir + (popdensity2020 + med_change + Physicist_access + Q219 + prop_maison + assault_for_1000 + dens_change) + prop_maison + C(Date)'\n",
    "mod1a = run_regression(immo_reg_com_diff, model1a)\n",
    "test_breuschpagan = het_breuschpagan(mod1a.resid,  mod1a.model.exog)\n",
    "test_breuschpagan"
   ]
  },
  {
   "cell_type": "markdown",
   "id": "d0c82690-9b84-4720-a92a-80283b6f816e",
   "metadata": {},
   "source": [
    "Ce modèle ne semble pas souffrir d'hétéroscédasticité (pval=0.5>0.05)"
   ]
  },
  {
   "cell_type": "code",
   "execution_count": null,
   "id": "4d2ede30",
   "metadata": {},
   "outputs": [],
   "source": [
    "mod1a.summary()"
   ]
  },
  {
   "cell_type": "markdown",
   "id": "7ad5da06",
   "metadata": {},
   "source": [
    "Les résultats confirment l'influence positive de la densité de population et du revenu médian communal sur les prix immobiliers. Les maisons ont généralement un prix au mètre carré inférieur aux appartements, d'où un effet négatif pour la variable maison. Le taux d'intérêt a un impact significatif d'environ -788€ par m² pour un point de taux supplémentaire. La seule surprise vient de la criminalité, qui a un effet positif, capturant peut-être un effet de mobilité de population plus élevé (agressions plus nombreuses dans zones avec plus de passage?)."
   ]
  },
  {
   "cell_type": "markdown",
   "id": "94d29a94",
   "metadata": {},
   "source": [
    "#### Modèle 1 - Modèle complet avec effets fixes"
   ]
  },
  {
   "cell_type": "markdown",
   "id": "7feef888",
   "metadata": {},
   "source": [
    "Le modèle principal de cette analyse, similaire au modèle introductif, se distingue par l'inclusion de coefficients d'interaction entre le taux d'intérêt et les autres variables. Cela permet d'utiliser un modèle à effets fixes, les variables constantes dans le temps devenant dynamiques grâce à l'interaction avec le taux d'intérêt. Le modèle, après application d'une transformation within, devient : $$p_{nt}-\\bar{p_{n}}= \\beta_0+\\beta_i[L^3(i_t)-\\bar{L^3(i_t)}]+\\beta_M[M_{nt}-\\bar{M_{n}}] + \\beta_{ic}[L^3(i_t)X_{nc}-\\bar{L^3(i)X_{nc}}]+\\beta_{im}[L^3(i_t)M_{nt}-\\bar{L^3(i)M_{n}}]+\\beta^{FE}_{D}D+\\varepsilon_t$$ $$\\iff \\ddot{p_{nt}}= \\beta^{FE}_0+\\beta^{FE}_i\\ddot{L^3(i_t)}+\\beta^{FE}_M\\ddot{M_{nt}} + \\beta^{FE}_{ic}[\\ddot{L^3(i_t)X_{nc}}]+\\beta^{FE}_{im}[\\ddot{L^3(i_t)M_{nt}}]+\\beta^{FE}_{D}D+\\varepsilon_t$$ Remarque: Inclure une variable muette permet directement d'obtenir l'estimation à effets-fixe (c'est ce qui a été utilisé pour les effets fixe trimestriels) cependant cette approche présente un coût calculatoire élevé avec beaucoup de groupes, la transformation within y est donc souvent préféré (où pour chaque variable est réduite de la moyenne du groupe, ici la ville)"
   ]
  },
  {
   "cell_type": "markdown",
   "id": "d2e322cc-4a5c-404c-b0fb-1b80057c2b5b",
   "metadata": {},
   "source": [
    "Remarque: La transformation within peut si deux variables d'interactions changent au cours du temps et sous certaines conditions provoquer un biais (voir _Interactions in Fixed Effects Regression Models_, Giesselmann et Schmidt-Catran, 2018). Ce n'est pas le cas pour la plupart de nos coefficients, sauf $\\beta_{im}$ qui représente l'intéraction entre le taux d'interet et la proportion de maison dans le total des transactions immobilières"
   ]
  },
  {
   "cell_type": "code",
   "execution_count": null,
   "id": "8c5d2e0d",
   "metadata": {},
   "outputs": [],
   "source": [
    "# Model 1b\n",
    "model1b_formula = 'prixM2_FE ~ lag3_ir_FE+prop_maison_FE + (popdensity2020_ir_FE + med_change_ir_FE + Physicist_access_ir_FE + Q219_ir_FE + assault_for_1000_ir_FE + dens_change_ir_FE + prop_maison_ir_FE) + C(Date)'\n",
    "mod1b = run_regression(immo_reg_com_diff, model1b_formula)\n",
    "\n",
    "test_breuschpagan = het_breuschpagan(mod1b.resid,  mod1b.model.exog)\n",
    "test_breuschpagan"
   ]
  },
  {
   "cell_type": "markdown",
   "id": "68cf0bbd-b448-45f1-b41d-181dbdcf7fe7",
   "metadata": {},
   "source": [
    "Ce modèle ne semble pas souffrir d'hétéroscédasticité (pval=0.39>0.05)"
   ]
  },
  {
   "cell_type": "code",
   "execution_count": null,
   "id": "ad1e1a79",
   "metadata": {},
   "outputs": [],
   "source": [
    "mod1b.summary()"
   ]
  },
  {
   "cell_type": "markdown",
   "id": "d8ac2534",
   "metadata": {},
   "source": [
    "Ce modèle suggère qu'une hausse du taux d'intérêt a un effet plus marqué dans les villes densément peuplées, avec une baisse de 0.0248€ des prix au m2 par point de taux d'interet en plus par personne par km2. Pour Paris cet effet serait d'environ 500€ par point de taux d'interet. Concernant les revenus médians, on observe une baisse de 0.0414€ par point d'intérêt supplémentaire pour chaque euros de revenu médian en 2019, soit environ 1200€ de baisse pour Paris. Un effet similaire est observé dans des villes en croissance (économique et démographique). Les villes avec un bon niveau d'accès au soins serait également plus touché comme les villes avec plus d'agressions (variable qui se comporte peut-être comme un proxy des zones métropolitaines), cependant ces deux variables ont une significativité pratique assez faible (l'échelle sur laquelle ces variables sont distribuées est assez petite). Le $R^2$ affiché est \"within\" c'est à dire qu'il représente la partie de la variance expliquée à l'intérieur du groupe, dans le cas présent notre modèle explique environ 25% de la variance des prix immobilier dans une même ville dans la dimension temporelle. \n",
    "\n",
    "Ces résultats semblent cohérents avec l'hypothèse d'effets spéculatifs et/ou de substitutions. Pour vérifier la robustesse de ces résultats plusieurs spécifications supplémentaires sont dévelopées. "
   ]
  },
  {
   "cell_type": "code",
   "execution_count": null,
   "id": "418bd0f7",
   "metadata": {},
   "outputs": [],
   "source": [
    "residuals = mod1b.resid\n",
    "plt.figure(figsize=(8, 6))\n",
    "sns.kdeplot(residuals, bw_adjust=7, shade=True)  # Adjust bandwidth as needed\n",
    "plt.title('Distribution des résidus')\n",
    "plt.xlim(-5000, 5000)\n",
    "plt.xlabel('Residuals')\n",
    "plt.ylabel('Density')\n",
    "plt.show()"
   ]
  },
  {
   "cell_type": "markdown",
   "id": "8e5cf95e-43ad-4d53-b197-705769a1a327",
   "metadata": {},
   "source": [
    "Les résidus semblent être distribué par une Gaussienne centrée sur 0. "
   ]
  },
  {
   "cell_type": "markdown",
   "id": "3d297ccf",
   "metadata": {},
   "source": [
    "#### Modèle 1c - Modèle log-niveau"
   ]
  },
  {
   "cell_type": "markdown",
   "id": "f216762e-cd5a-44ca-9dd2-8ce55e7f53dd",
   "metadata": {},
   "source": [
    "Une critique possible de notre modèle est l'existance d'effets d'échelles relativement fort sur les prix, les prix immobilier pouvant varier fortement d'une ville à une autre. Ce modèle utilise donc une spécification log-niveau.\n",
    "$$ \\ddot{log(p_{nt})}= \\beta^{FE}_0+\\beta^{FE}_i\\ddot{L^3(i_t)}+\\beta^{FE}_M\\ddot{M_{nt}} + \\beta^{FE}_{ic}[\\ddot{L^3(i_t)X_{nc}}]+\\beta^{FE}_{D}D+\\varepsilon_t$$"
   ]
  },
  {
   "cell_type": "code",
   "execution_count": null,
   "id": "6cc7c1ee-b91e-4867-9672-6358708db1f2",
   "metadata": {},
   "outputs": [],
   "source": [
    "# Model 1c\n",
    "model1c_formula = 'log_prixM2_FE ~ lag3_ir_FE+prop_maison_FE + (popdensity2020_ir_FE + med_change_ir_FE + Physicist_access_ir_FE + Q219_ir_FE + assault_for_1000_ir_FE + dens_change_ir_FE + prop_maison_ir_FE) + C(Date)'\n",
    "mod1c = run_regression(immo_reg_com_diff, model1c_formula)\n",
    "\n",
    "test_breuschpagan = het_breuschpagan(mod1c.resid,  mod1c.model.exog)\n",
    "test_breuschpagan"
   ]
  },
  {
   "cell_type": "markdown",
   "id": "eaf7be3e-fa2a-44d6-9af1-c1710cdae944",
   "metadata": {},
   "source": [
    "Ce modèle ne semble pas souffrir d'hétéroscédasticité (pval=0.17>0.05)"
   ]
  },
  {
   "cell_type": "code",
   "execution_count": null,
   "id": "fa3c1982-cb2a-417a-9be0-829d37edc517",
   "metadata": {},
   "outputs": [],
   "source": [
    "mod1c.summary()"
   ]
  },
  {
   "cell_type": "markdown",
   "id": "cc6ef23c-40b5-4ae3-8cb7-5577bcc99439",
   "metadata": {},
   "source": [
    "Les résultats sont cohérents avec le premier modèle, avec une augmentation significative du $R^2$, indiquant que le modèle explique 60% de la variance du log des prix dans une même commune."
   ]
  },
  {
   "cell_type": "markdown",
   "id": "f5fdf582",
   "metadata": {},
   "source": [
    "#### Modèle 2 - Modèle avec prix dé-tendanciés"
   ]
  },
  {
   "cell_type": "markdown",
   "id": "445e062a",
   "metadata": {},
   "source": [
    "Ce modèle s'attaque au risque de corrélations fallacieuses dû au caractère non stationnaire des prix immobiliers. Il consiste en une estimation en deux étapes, sans inclure d'effets fixes pour simplifier les calculs.\n",
    "1) Régression des prix sur le temps avec t le nombre de trimestres depuis le début du panel pour chaque groupe : $$ p_{nt}=\\beta_0+\\beta_{tn}t$$ \n",
    "\n",
    "2) Régression des prix réduit de la tendance linéaire estimé sur le taux d'interet et les interactions : $$(p_{nt}-\\beta_{nt}\\times t)= \\beta_0+\\beta_iL^3(i_t)+\\beta_MM_{nt} + \\beta_c X_{nc}+\\beta_{ic}L^3(i_t)X_{nc}+\\beta_{iM}L^3(i_t)M_{nt}+\\beta_{D}D+\\varepsilon_t $$\n",
    "\n",
    "Remarque : enlever la tendance de l'évolution des prix ne permet pas de rendre ce processus stationaire mais réduit tout de même le risque d'obtenir des résultats liée à la hausse des prix sur la période"
   ]
  },
  {
   "cell_type": "code",
   "execution_count": null,
   "id": "65e11a31",
   "metadata": {},
   "outputs": [],
   "source": [
    "#DETRENDED REGRESSION\n",
    "immo_reg_com_diff['time'] = immo_reg_com_diff.groupby('COM').cumcount() + 1\n",
    "df_reg = immo_reg_com_diff.groupby('COM').apply(lambda x: smf.ols('prixM2 ~ time', data=x).fit().resid + x['prixM2']).reset_index(name='detrended_variable')\n",
    "reg_immo2 = immo_reg_com_diff.groupby('COM').apply(lambda x: smf.ols('prixM2 ~ time', data=x).fit().params['time']).reset_index(name='estimate')\n",
    "vroom = immo_reg_com_diff.reset_index(drop=False).merge(reg_immo2, on='COM')\n",
    "vroom['prixM2_dt'] = vroom['prixM2'] - vroom['time'] * vroom['estimate']\n",
    "\n",
    "model_detrend= 'prixM2_dt ~ lag_ir * (popdensity2020 + med_change + Physicist_access + Q219 + prop_maison + assault_for_1000 + dens_change) + prop_maison + C(AN)'\n",
    "mod2 = run_regression(vroom, model_detrend)\n",
    "\n",
    "test_breuschpagan = het_breuschpagan(mod2.resid,  mod2.model.exog)\n",
    "test_breuschpagan"
   ]
  },
  {
   "cell_type": "markdown",
   "id": "2c33e359-f09b-4277-add5-caf25af856fd",
   "metadata": {},
   "source": [
    "Ce modèle souffre d'hétéroscédasticité (p-value=1.08e-17), les résultats sont donc affichés sous forme robuste:"
   ]
  },
  {
   "cell_type": "code",
   "execution_count": null,
   "id": "4b4b3e1a-6e44-45ee-9a64-7e6cdff3c9d8",
   "metadata": {},
   "outputs": [],
   "source": [
    "mod2.get_robustcov_results(cov_type='HC2').summary()"
   ]
  },
  {
   "cell_type": "markdown",
   "id": "2ec30965",
   "metadata": {},
   "source": [
    "Ce modèle à la particularité d'avoir peu de coefficients statistiquement signifactifs mais les effets croisés taux d'interets densité reste significatifs à un niveau inférieur à 1% et l'interactions avec les revenus est significative à un niveau d'environ 6%. De plus, le coefficient associé au chômage semble capter la majorité de l'effet précédemment attribué aux revenus, suggérant que les revenus médians pourraient être un proxy de la santé économique locale."
   ]
  },
  {
   "cell_type": "markdown",
   "id": "93638f66-4732-4eb5-90d2-b31d2731a006",
   "metadata": {},
   "source": [
    "#### Visualisation des prix sans tendance linéaire"
   ]
  },
  {
   "cell_type": "code",
   "execution_count": null,
   "id": "d4936f09-ed52-420e-90f9-1ddb309c2fc7",
   "metadata": {},
   "outputs": [],
   "source": [
    "plot_data = vroom[vroom['LIB_COM'].str.startswith('Paris 14')].copy()\n",
    "plot_data['prixM2_noncorrige'] = plot_data['prixM2'] * plot_data['BASE14']\n",
    "plot_data['Date'] = pd.to_datetime(plot_data['Date'], format='%Y%m%d')\n",
    "plot_data_melted = plot_data.melt(id_vars='Date', value_vars=['prixM2', 'prixM2_dt', 'prixM2_noncorrige'])\n",
    "\n",
    "plt.figure(figsize=(10, 6))\n",
    "sns.lineplot(data=plot_data_melted, x='Date', y='value', hue='variable')\n",
    "plt.title(\"Évolution des prix, Paris 14e, nominal, euros 2014 et euros 2014 detrend\")\n",
    "plt.xlabel(\"Date\")\n",
    "plt.ylabel(\"Value\")\n",
    "plt.legend(title='Variable')\n",
    "plt.show()"
   ]
  },
  {
   "cell_type": "markdown",
   "id": "0b5438cf-9020-49a9-90f9-8367cea9c4b5",
   "metadata": {},
   "source": [
    "En vert sont représenté les prix non corrigés de l'inflation (jamais utilisé dans le cadre de cette modélisation), en bleu les prix en euros 2014 et en orange les prix sans tendance linéaire."
   ]
  },
  {
   "cell_type": "markdown",
   "id": "e3d07038",
   "metadata": {},
   "source": [
    "### Modèle ZE (Zone d'Emploi)"
   ]
  },
  {
   "cell_type": "markdown",
   "id": "11d55c81",
   "metadata": {},
   "source": [
    "#### Modèle 3 - Spécification ZE du modèle complet"
   ]
  },
  {
   "cell_type": "markdown",
   "id": "1b2f7313-09aa-4aac-b382-1be0e66eb464",
   "metadata": {},
   "source": [
    "Dans ce modèle, la zone d'emploi remplace la ville comme unité d'analyse, avec l'ajout du taux de chômage au même retard que le taux d'interet pour simplifier l'interprétation."
   ]
  },
  {
   "cell_type": "markdown",
   "id": "25117dce-fd04-4e60-bc48-87b20048acda",
   "metadata": {},
   "source": [
    "$$\\ddot{p_{nt}}= \\beta^{FE}_0+\\beta^{FE}_i\\ddot{L^3(i_t)}+\\beta^{FE}_V\\ddot{Z_{nt}} + \\beta^{FE}_{IC}[\\ddot{L^3(i_t)X_{nc}}]+\\beta^{FE}_{IV}[\\ddot{L^3(i_t)Z_{nt}}]+\\beta^{FE}_{D}D+\\varepsilon_t$$\n",
    " $Z_{nt}$ inclus toutes les charactéristiques variante dans le temps par zone d'emploi (ie. chomage et proportion de maisons vendues dans le total). "
   ]
  },
  {
   "cell_type": "code",
   "execution_count": null,
   "id": "f3f79a93",
   "metadata": {},
   "outputs": [],
   "source": [
    "# Part 4: Linear Regression Models\n",
    "# Model mod3\n",
    "mod3_formula = 'prixM2_FE ~ lag3_ir_FE+prop_maison_FE+lag3_UNEMP_FE+lag3_UNEMP_ir_FE + (popdensity2020_ir_FE + med_change_ir_FE + Physicist_access_ir_FE + Q219_ir_FE + assault_for_1000_ir_FE + dens_change_ir_FE + prop_maison_ir_FE) + C(Date)'\n",
    "mod3 = run_regression(immo_reg_ze_diff, mod3_formula)\n",
    "\n",
    "test_breuschpagan = het_breuschpagan(mod3.resid,  mod3.model.exog)\n",
    "test_breuschpagan"
   ]
  },
  {
   "cell_type": "markdown",
   "id": "604a5f76-1f7a-4266-87c7-7f8530ee7b5a",
   "metadata": {},
   "source": [
    "Ce modèle souffre également d'hétéroscédasticité (p-value=8.73e-91), les résultats sont donc affichés sous forme robuste:"
   ]
  },
  {
   "cell_type": "code",
   "execution_count": null,
   "id": "94f72a22",
   "metadata": {},
   "outputs": [],
   "source": [
    "mod3.get_robustcov_results(cov_type='HC2').summary()"
   ]
  },
  {
   "cell_type": "markdown",
   "id": "2813aa03",
   "metadata": {},
   "source": [
    "Les résultats sont cohérents avec nos résultats précédents mais on remarque que le coefficients associés au chomage capture la majorité de l'effet précédement attribué aux revenus. Il semblerait que les revenus médians soit un proxy général de la santé économique locale."
   ]
  },
  {
   "cell_type": "markdown",
   "id": "5b3a7611",
   "metadata": {},
   "source": [
    "### Modèles EPCI (Établissement Public de Coopération Intercommunale)"
   ]
  },
  {
   "cell_type": "markdown",
   "id": "12243856",
   "metadata": {},
   "source": [
    "#### Modèle 4 - Spécification EPCI du modèle complet"
   ]
  },
  {
   "cell_type": "markdown",
   "id": "c62cece3",
   "metadata": {},
   "source": [
    "$$\\ddot{p_{nt}}= \\beta^{FE}_0+\\beta^{FE}_i\\ddot{L^3(i_t)}+\\beta^{FE}_M\\ddot{M_{nt}} + \\beta^{FE}_{IC}[\\ddot{L^3(i_t)X_{nc}}]+\\beta^{FE}_{IM}[\\ddot{L^3(i_t)M_{nt}}]+\\beta^{FE}_{D}D+\\varepsilon_t$$"
   ]
  },
  {
   "cell_type": "code",
   "execution_count": null,
   "id": "195927c9",
   "metadata": {},
   "outputs": [],
   "source": [
    "# Model mod5\n",
    "mod5_formula = 'prixM2_FE ~ lag3_ir_FE+prop_maison_FE + (popdensity2020_ir_FE + med_change_ir_FE + Physicist_access_ir_FE + Q219_ir_FE + assault_for_1000_ir_FE + dens_change_ir_FE + prop_maison_ir_FE) + C(Date)'\n",
    "mod5 = run_regression(immo_reg_epci_diff, mod5_formula)\n",
    "\n",
    "test_breuschpagan = het_breuschpagan(mod5.resid,  mod5.model.exog)\n",
    "test_breuschpagan"
   ]
  },
  {
   "cell_type": "markdown",
   "id": "a6bd6ddf-2998-4474-9ac0-882889ede4d2",
   "metadata": {},
   "source": [
    "Le modèle souffre d'hétéroscédasticité (p-value=6.27e-43), les résultats sont donc affichés sous forme robuste:"
   ]
  },
  {
   "cell_type": "code",
   "execution_count": null,
   "id": "8055c330",
   "metadata": {},
   "outputs": [],
   "source": [
    "mod5.get_robustcov_results(cov_type='HC2').summary()"
   ]
  },
  {
   "cell_type": "markdown",
   "id": "d61a59a3-a374-46b4-b3dc-502825557551",
   "metadata": {},
   "source": [
    "L'estimation du modèle au niveau EPCI révèle des résultats similaires, bien que l'effet total du taux d'intérêt soit réduit, à cause du coefficient associé à $E[B^{FE}_i|(\\ddot{L^3(i_t)X_{nc}})=0]$  qui est positif et est égal à 1882€ même si celui-ci n'est pas significatif à 5%. Par ailleurs, l'impact de l'évolution des revenus est plus prononcé que dans les autres modèles."
   ]
  }
 ],
 "metadata": {
  "kernelspec": {
   "display_name": "Python 3 (ipykernel)",
   "language": "python",
   "name": "python3"
  },
  "language_info": {
   "codemirror_mode": {
    "name": "ipython",
    "version": 3
   },
   "file_extension": ".py",
   "mimetype": "text/x-python",
   "name": "python",
   "nbconvert_exporter": "python",
   "pygments_lexer": "ipython3",
   "version": "3.11.5"
  }
 },
 "nbformat": 4,
 "nbformat_minor": 5
}
