{
 "cells": [
  {
   "cell_type": "markdown",
   "metadata": {},
   "source": [
    "## Définition des variables : \n",
    "\n",
    "### Variables sur le niveau de vie \n",
    "\n",
    "* physicist : accessibilité potentielle localisée (APL). DREES: \"L’indicateur d’accessibilité potentielle localisée (APL) a été développé pour mesurer l’adéquation spatiale entre l’offre et la demande de soins de premier recours à un échelon géographique fin. C'est un indicateur local, disponible au niveau de chaque commune, qui tient compte de l’offre et de la demande issues des communes environnantes. Calculé à l’échelle communale, l’APL met en évidence des disparités d’offre de soins qu’un indicateur usuel de densité, calculé sur des mailles beaucoup plus larges aurait tendance à masquer. Il tient également compte du niveau d’activité des professionnels en exercice ainsi que de la structure par âge de la population de chaque commune qui influence les besoins de soins.\"\\\n",
    "* Q214 :  Revenu disponible médian par unité de consommation en 2014.\\\n",
    "* Q219 :  Revenu disponible médian par unité de consommation en 2019.\\\n",
    "* GI19 : indice de Gini en 2019.\\ \n",
    "\n",
    "\n",
    "### Variables démographiques \n",
    "\n",
    "* popdensity2014 : densité de population en 2014 (nombre d'habitants/surface).\\\n",
    "* popdensity2019 : densité de population en 2019 (nombre d'habitants/surface).\\\n",
    "\n",
    "\n",
    "### Variables sur la criminalité \n",
    "\n",
    "* burglary_for_1000 : nombre de cambriolages pour 1000 habitants en 2019.\\\n",
    "* assault_for_1000 : nombre de coups et blessures volontaires pour 1000 habitants en 2019.\\\n",
    "* other_assault_for_1000 : nombre d'autres coups et blessures volontaires pour 1000 habitants en 2019.\\\n",
    "* destruction_for_1000 : nombre de destructions et dégradations volontaires pour 1000 habitants en 2019.\\"
   ]
  },
  {
   "cell_type": "markdown",
   "metadata": {},
   "source": [
    "## COMMENTAIRE CARTE IMMOBILIER PAR ZONE D'EMPLOI , PREMIER TRIMESTRE 2019\n",
    "On observe une très forte hétérogénéité des prix de l'immobillier en France. Les prix sont très élevées dans la zone d'emploi de Paris et faible dans l'essentiel du reste de la France. On peut remarquer des prix élevés dans les zones d'emploi proches de la frontière Suisse, cela est sûrement dû à la présence de travailleurs frontaliers. Notons l'absence de données pour une partie de l'Alsace et la Lorraine.\n",
    "\n",
    "## COMMENTAIRE DE LA CARTE JUSTE EN DESSOUS\n",
    "Les prix de l'immobilier sont stables dans l'essentiel de la France cependant certains territoires ont vu de fortes augmentations. Toute les zones d'emplois situées sur la côte atlantique ont subies des augmentations importantes tout comme celles sur la côte de la méditerannées de la région PACA. On remarque aussi une forte augmentation dans les zones d'emplois proches de la frontière Suisse. Etonnamment l'augmentation dans la zone d'emploi de Paris entre 2019 et 2023 n'est pas la plus élevée, elle s'élève à environ 1000 euros du mètre carré contre environ 1500 euros pour la zone d'emploi de Sainte Maxime. Notons l'absence de données pour une partie de l'Alsace et la Lorraine."
   ]
  },
  {
   "cell_type": "markdown",
   "metadata": {},
   "source": [
    "## Sources des données\n",
    "*  Ministère de l'économie et des finances. DVF  répertorie toutes les transactions en France, sauf dans 3 départements. Les données des dernières annnées [2019-2023](https://www.data.gouv.fr/en/datasets/demandes-de-valeurs-foncieres/) sont disponibles sur data gouv. Pour [2014-2018]() données archivées par [Christian Quest](https://www.etalab.gouv.fr/author/christian/) .\n",
    "* INSEE Filosofi fournit des statistiques locales sur le revenu des ménages pour [2014](https://www.insee.fr/fr/statistiques/3126151) et [2019](https://www.insee.fr/fr/statistiques/6036907)\n",
    "* INSEE Recensement de la population utilisé pour les données démographiques disponibles pour [1968-2020](https://www.insee.fr/fr/statistiques/7632565)\n",
    "* INSEE Données trimestrielles sur le chomage utilisées pour les données de controle niveau zone d'emploi disponibles pour [2004-2023](https://www.insee.fr/fr/statistiques/1893230)\n",
    "* INSEE Découpage data avec [changement de code commune](https://www.insee.fr/fr/information/2028028) and [ établissements publics de coopération intercommunale (EPCI)](https://www.insee.fr/fr/information/2510634) utilisé pour créer une table de passage entre les différents niveaux d'agrégation\n",
    "* INSEE Zone d'emploi [fonds de cartes](https://www.insee.fr/fr/information/4652957) utilisé pour créer des visualisations géographiques de données\n",
    "* DREES Accessibilité potentielle localisée mesure l'accès aux soins utilisé comme proxy pour la qualité des services locaux disponible pour [2015-2022](https://data.drees.solidarites-sante.gouv.fr/explore/dataset/530_l-accessibilite-potentielle-localisee-apl/information/)\n",
    "* Ministère de l'intérieur données locales sur la criminalité disponible sur open data gouv pour [2016-2022](https://www.data.gouv.fr/fr/datasets/bases-statistiques-communale-et-departementale-de-la-delinquance-enregistree-par-la-police-et-la-gendarmerie-nationales/#/resources)\n",
    "* Ministère de la transition écologique base de données régionale des prix des terrains utilisé pour soustraire le prix des terrains aux montant des transactions dans les données DVF disponible pour [2008-2022](https://www.statistiques.developpement-durable.gouv.fr/catalogue?page=dataset&datasetId=63b8281ec113d45936722df2)\n",
    "* Banque de France prêts à l’habitat des ménages [sondage](https://www.banque-france.fr/fr/publications-et-statistiques/statistiques/panorama-des-prets-lhabitat-des-menages) utilisé pour obtenir les taux d'intérêts effectifs \n",
    "\n",
    "## Agrégation : \n",
    "Pour ce projet les données DVF ont été agrégées de manière semestrielles en utilisant une fonction personnalisée à 3 niveaux distincts : commune, EPCI et zone d'emploi. Les données ont été filtrées et à chaque niveau d'agrégation 3 variables d'intérêts ont été gardées, le nombre de transactions, le prix médian et la part de maisons parmi toutes les transactions. Cette proportion est utilisée comme variable de contrôle pour les différences structurelles du marché de l'immobilier des différentes communes car les maisons sont souvent moins chères au mètre carré que les appartements. \n"
   ]
  },
  {
   "cell_type": "markdown",
   "metadata": {},
   "source": [
    "## TRUC D'INTRO\n",
    "\n",
    "Dans son portrait social de 2021 l'INSEE fait état d'une forte concentration du patrimoine immobilier en France. En 2021, 68% des logements possédés par des particuliers appartiennent à 24% des ménages en France. Certaines territoires ont vu une augmentation importante des prix de l'immobilier ces dernières années consolidant mécaniquement le patrimoine des ménages propriétaires de biens immobiliers mais réduisant l'accès à la propriété pour les ménages moins favorisés. Dans un contexte inflationniste post-covid le régulateur (la Banque Centrale Européenne) peut influer sur les taux d'intérêts, immobiliers compris, pour atteindre sa cible d'inflation. Nous allons donc étudier les effets d'une variation de taux d'intérêt de prêts immobiliers sur les prix au mètre carré.     "
   ]
  }
 ],
 "metadata": {
  "kernelspec": {
   "display_name": "base",
   "language": "python",
   "name": "python3"
  },
  "language_info": {
   "name": "python",
   "version": "3.8.18"
  }
 },
 "nbformat": 4,
 "nbformat_minor": 2
}
